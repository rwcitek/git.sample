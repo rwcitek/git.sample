{
 "cells": [
  {
   "cell_type": "markdown",
   "id": "b9ad7a6c-f63a-4bac-841b-501fe1b6b8e5",
   "metadata": {},
   "source": [
    "# Abstraction and technologies"
   ]
  },
  {
   "cell_type": "markdown",
   "id": "1a600b10-df33-4736-a640-3529ecf32754",
   "metadata": {},
   "source": [
    "Git uses a number of abstractions, technologies, and tools behind the scenes, organized in the .git folder hierarchy.\n",
    "\n",
    "* filesystem\n",
    "* hash function, CHF SHA-1\n",
    "* compression\n",
    "* key-value store\n",
    "* graphs: trees, acyclic directed graphs ( DAGs )\n"
   ]
  },
  {
   "cell_type": "markdown",
   "id": "e5dd36ff-3565-4215-b79c-7fbe17fd5dca",
   "metadata": {},
   "source": [
    "<br />\n",
    "<br />\n",
    "<br />\n",
    "<br />\n",
    "<br />"
   ]
  },
  {
   "cell_type": "markdown",
   "id": "8aa2a4db-1db0-4f57-8dce-bee301e0dbe3",
   "metadata": {},
   "source": [
    "## Initialize and show current folder"
   ]
  },
  {
   "cell_type": "code",
   "execution_count": 1,
   "id": "26b29e29-57ff-414d-940c-f09164bbb48b",
   "metadata": {},
   "outputs": [
    {
     "name": "stdout",
     "output_type": "stream",
     "text": [
      "Initialized empty Git repository in /home/jovyan/work/example.repo.04/.git/\n"
     ]
    }
   ],
   "source": [
    "cd ~/work\n",
    "rm -rf example.repo.04\n",
    "mkdir -p example.repo.04\n",
    "cd example.repo.04\n",
    "git init\n",
    "git config user.email \"you@example.com\"\n",
    "git config user.name \"Your Name\""
   ]
  },
  {
   "cell_type": "markdown",
   "id": "97de8d13-ee84-4b57-bf02-9feeb728a593",
   "metadata": {},
   "source": [
    "## Filesystem"
   ]
  },
  {
   "cell_type": "code",
   "execution_count": 2,
   "id": "d4b1a54d-7ea9-4858-8078-667dba451d1d",
   "metadata": {},
   "outputs": [
    {
     "name": "stdout",
     "output_type": "stream",
     "text": [
      ".git\n",
      "├── branches\n",
      "├── config\n",
      "├── description\n",
      "├── HEAD\n",
      "├── hooks\n",
      "│   ├── applypatch-msg.sample\n",
      "│   ├── commit-msg.sample\n",
      "│   ├── fsmonitor-watchman.sample\n",
      "│   ├── post-update.sample\n",
      "│   ├── pre-applypatch.sample\n",
      "│   ├── pre-commit.sample\n",
      "│   ├── pre-merge-commit.sample\n",
      "│   ├── prepare-commit-msg.sample\n",
      "│   ├── pre-push.sample\n",
      "│   ├── pre-rebase.sample\n",
      "│   ├── pre-receive.sample\n",
      "│   └── update.sample\n",
      "├── info\n",
      "│   └── exclude\n",
      "├── objects\n",
      "│   ├── info\n",
      "│   └── pack\n",
      "└── refs\n",
      "    ├── heads\n",
      "    └── tags\n",
      "\n",
      "9 directories, 16 files\n"
     ]
    }
   ],
   "source": [
    "tree .git"
   ]
  },
  {
   "cell_type": "markdown",
   "id": "0b54317c-13c1-4187-9ff0-46ee89f73ac7",
   "metadata": {},
   "source": [
    "A key feature of the file system is that no two files can have the same path/filename.  Those must be unique."
   ]
  },
  {
   "cell_type": "code",
   "execution_count": 3,
   "id": "2ee0ef24-1c36-47f2-aea9-a5e5889ef709",
   "metadata": {},
   "outputs": [
    {
     "name": "stdout",
     "output_type": "stream",
     "text": [
      "/home/jovyan/work/confusion\n",
      "/home/jovyan/work/confusion/dup1  \n",
      "/home/jovyan/work/confusion/dup1\n",
      "/home/jovyan/work/confusion/dup1 \n",
      "/home/jovyan/work/confusion/dup1   \n"
     ]
    }
   ],
   "source": [
    "find ~/work/confusion"
   ]
  },
  {
   "cell_type": "code",
   "execution_count": 4,
   "id": "7326e700-bdfa-42fa-801e-80ce8ed77e92",
   "metadata": {},
   "outputs": [
    {
     "name": "stdout",
     "output_type": "stream",
     "text": [
      "/home/jovyan/work/confusion$\n",
      "/home/jovyan/work/confusion/dup1$\n",
      "/home/jovyan/work/confusion/dup1 $\n",
      "/home/jovyan/work/confusion/dup1  $\n",
      "/home/jovyan/work/confusion/dup1   $\n"
     ]
    }
   ],
   "source": [
    "find ~/work/confusion | sort | cat -vet"
   ]
  },
  {
   "cell_type": "markdown",
   "id": "1032c734-e56a-410b-a02b-39eede91bb42",
   "metadata": {},
   "source": [
    "<br />\n",
    "<br />\n",
    "<br />\n",
    "<br />\n",
    "<br />"
   ]
  },
  {
   "cell_type": "markdown",
   "id": "44827562-366c-46ec-afb9-f0a0842ba81e",
   "metadata": {},
   "source": [
    "## Hash functions\n",
    "* Cryptographic hash functions ( CHF )\n",
    "* SHA-1"
   ]
  },
  {
   "cell_type": "markdown",
   "id": "a3dfa575-5665-4e17-8c75-4caa4768132d",
   "metadata": {},
   "source": [
    "### Properties, features\n",
    "- fast to compute: O(n)\n",
    "- uniform size: maps data of arbitrary size to a fixed size ( SHA-1: 40 hex digits )\n",
    "- hex characters\n",
    "- one-way: given a hash output, infeasible to generate input; irreversible\n",
    "- deterministic: same input, same output\n",
    "    - if two hashes differ, their inputs differ\n",
    "- unique: infeasible that different inputs generate same output; collision\n",
    "- sensitive to change: small input change, large output change; avalanche effect\n"
   ]
  },
  {
   "cell_type": "code",
   "execution_count": 5,
   "id": "15f7a77b-155b-4542-baca-f24d17ec71bd",
   "metadata": {},
   "outputs": [
    {
     "name": "stdout",
     "output_type": "stream",
     "text": [
      "12\n"
     ]
    }
   ],
   "source": [
    "# input size\n",
    "<<< \"hello world\" wc -c"
   ]
  },
  {
   "cell_type": "code",
   "execution_count": 6,
   "id": "6fc631f7-2e81-4fe3-804b-7d4e353a842c",
   "metadata": {},
   "outputs": [
    {
     "name": "stdout",
     "output_type": "stream",
     "text": [
      "22596363b3de40b06f981fb85d82312e8c0ed511  -\n",
      "22596363b3de40b06f981fb85d82312e8c0ed511  -\n"
     ]
    }
   ],
   "source": [
    "# same size, hex characters, and deterministic: calculate hash twice\n",
    "<<< \"hello world\" shasum -a 1\n",
    "<<< \"hello world\" shasum -a 1"
   ]
  },
  {
   "cell_type": "code",
   "execution_count": 7,
   "id": "2d14651a-f237-472f-8490-76d09cbd7178",
   "metadata": {},
   "outputs": [
    {
     "name": "stdout",
     "output_type": "stream",
     "text": [
      "40\n"
     ]
    }
   ],
   "source": [
    "# output size\n",
    "<<< \"hello world\" shasum -a 1 | tr -d '\\n -' | wc -c"
   ]
  },
  {
   "cell_type": "code",
   "execution_count": 8,
   "id": "43a15961-fd74-4014-8026-7f105039db9f",
   "metadata": {},
   "outputs": [
    {
     "name": "stdout",
     "output_type": "stream",
     "text": [
      "cf3400b0e78f01c31f1d5973100dffdaed0b4539  -\n"
     ]
    }
   ],
   "source": [
    "# similar, but different input results in different output\n",
    "<<< \"hello world, hello world, hello world, hello world\" shasum"
   ]
  },
  {
   "cell_type": "code",
   "execution_count": 9,
   "id": "8a6e983a-2dcd-47db-8cfa-535933330192",
   "metadata": {},
   "outputs": [
    {
     "name": "stdout",
     "output_type": "stream",
     "text": [
      "cf3400b0e78f01c31f1d5973100dffdaed0b4539  -\n"
     ]
    }
   ],
   "source": [
    "# deterministic: repeat\n",
    "<<< \"hello world, hello world, hello world, hello world\" shasum"
   ]
  },
  {
   "cell_type": "code",
   "execution_count": 10,
   "id": "a24d2b54-b7ef-4c7e-b6c4-eeef3d302c7f",
   "metadata": {},
   "outputs": [
    {
     "name": "stdout",
     "output_type": "stream",
     "text": [
      "69a8a6c977609373ce8c7fcf29148f13f014b0f2  -\n"
     ]
    }
   ],
   "source": [
    "# repeat ... almost: avalanche effect\n",
    "<<< \"hello world, hello world, hello wor1d, hello world\" shasum"
   ]
  },
  {
   "cell_type": "markdown",
   "id": "9acf6614-e89a-46b9-955c-fdeb589751de",
   "metadata": {},
   "source": [
    "Reference: [Wikipedia on CHF]( https://en.wikipedia.org/wiki/Cryptographic_hash_function )\n"
   ]
  },
  {
   "cell_type": "markdown",
   "id": "eb0109cd-71b4-488f-ac9c-bdbe55d69b66",
   "metadata": {},
   "source": [
    "<br />\n",
    "<br />\n",
    "<br />\n",
    "<br />\n",
    "<br />"
   ]
  },
  {
   "cell_type": "markdown",
   "id": "2264734d-b1ba-454a-9cdb-31703cd84544",
   "metadata": {},
   "source": [
    "## Compression ( lossless )\n",
    "- given input data, generate smaller output data ( usually )\n",
    "- reversible: given output data, regenerate input data, exactly\n",
    "- zip, gzip\n",
    "- git uses zlib\n"
   ]
  },
  {
   "cell_type": "code",
   "execution_count": 11,
   "id": "fcaaa526-2f89-4c75-9b5f-496714c41dc0",
   "metadata": {},
   "outputs": [
    {
     "name": "stdout",
     "output_type": "stream",
     "text": [
      "-rw-r--r-- 1 jovyan users 51 Jun 14 18:14 /tmp/example\n",
      "-rw-r--r-- 1 jovyan users 37 Jun 14 18:14 /tmp/example.compressed\n"
     ]
    }
   ],
   "source": [
    "# compress, notice reduced size\n",
    "echo \"hello world, hello world, hello world, hello world\" > /tmp/example\n",
    "< /tmp/example gzip > /tmp/example.compressed\n",
    "ls -la /tmp/example*"
   ]
  },
  {
   "cell_type": "code",
   "execution_count": 12,
   "id": "a20dc1b1-f397-4fea-b895-d20eac291f3f",
   "metadata": {},
   "outputs": [
    {
     "name": "stdout",
     "output_type": "stream",
     "text": [
      "hello world, hello world, hello world, hello world\n"
     ]
    }
   ],
   "source": [
    "# decompress\n",
    "< /tmp/example.compressed gzip -dc"
   ]
  },
  {
   "cell_type": "code",
   "execution_count": 13,
   "id": "56b376fd-9159-4867-a8cb-723a3fe50828",
   "metadata": {},
   "outputs": [
    {
     "name": "stdout",
     "output_type": "stream",
     "text": [
      "cf3400b0e78f01c31f1d5973100dffdaed0b4539  -\n",
      "cf3400b0e78f01c31f1d5973100dffdaed0b4539  -\n"
     ]
    }
   ],
   "source": [
    "# virify hash\n",
    "< /tmp/example shasum\n",
    "< /tmp/example.compressed gzip -dc | shasum"
   ]
  },
  {
   "cell_type": "markdown",
   "id": "a52aaa59-3242-4b62-be0c-1ececfe02d3e",
   "metadata": {},
   "source": [
    "Reference: [Wikipedia Compression]( https://en.wikipedia.org/wiki/Data_compression )"
   ]
  },
  {
   "cell_type": "markdown",
   "id": "bd713fd6-6cca-4d0a-813e-9c38bad48468",
   "metadata": {},
   "source": [
    "<br />\n",
    "<br />\n",
    "<br />\n",
    "<br />\n",
    "<br />"
   ]
  },
  {
   "cell_type": "markdown",
   "id": "b0754274-d47e-4885-ae99-a2345f407740",
   "metadata": {},
   "source": [
    "## Key-value store\n",
    "- given a key, some value is returned\n",
    "- DB: CRUD - create, remove, update, delete\n",
    "- associative array ( awk ), hash ( perl, ruby ), dictionary (Python)\n",
    "- implementations: Berkeley DB, redis, Dynamo, S3\n",
    "- filesystem: no two files can have the same name"
   ]
  },
  {
   "cell_type": "markdown",
   "id": "9c969ba5-386f-477a-ade2-7045fd11e7ef",
   "metadata": {},
   "source": [
    "### Stiching the pieces together\n",
    "- git uses sha-1 to generate a key, compresses the data, and then stores it on the filesystem\n",
    "- result: 1-to-1 map of key to value\n",
    "\n",
    "** This is NOT what git does, but it's a step in that direction **"
   ]
  },
  {
   "cell_type": "markdown",
   "id": "5326f9bd-42a9-4c3e-802f-702ab9cfb30a",
   "metadata": {},
   "source": [
    "#### Write to and read from the K-V store"
   ]
  },
  {
   "cell_type": "code",
   "execution_count": 14,
   "id": "5085dc04-6dfb-4815-945b-4409c91ed301",
   "metadata": {},
   "outputs": [],
   "source": [
    "# Save some data\n",
    "echo \"hello world, hello world, hello world, hello world\" > /tmp/example"
   ]
  },
  {
   "cell_type": "code",
   "execution_count": 15,
   "id": "9ee2b352-bc36-44a0-9054-004d4f0e38c7",
   "metadata": {},
   "outputs": [],
   "source": [
    "# Generate a key\n",
    "key=$( < /tmp/example shasum | tr -d '\\n -')"
   ]
  },
  {
   "cell_type": "code",
   "execution_count": 16,
   "id": "42f1d777-6bd2-46c1-8f42-a0f827972904",
   "metadata": {},
   "outputs": [],
   "source": [
    "# Save the data using the key as filename\n",
    "cat /tmp/example > /tmp/${key}"
   ]
  },
  {
   "cell_type": "code",
   "execution_count": 17,
   "id": "b58ae8a3-284a-4fc2-93e8-2adee7c9b0c6",
   "metadata": {},
   "outputs": [
    {
     "name": "stdout",
     "output_type": "stream",
     "text": [
      "-rw-r--r-- 1 jovyan users 51 Jun 14 18:14 /tmp/cf3400b0e78f01c31f1d5973100dffdaed0b4539\n",
      "-rw-r--r-- 1 jovyan users 51 Jun 14 18:14 /tmp/example\n"
     ]
    }
   ],
   "source": [
    "# Verify, i.e. files exist and are same size\n",
    "ls -lAF /tmp/example /tmp/\"${key}\""
   ]
  },
  {
   "cell_type": "code",
   "execution_count": 18,
   "id": "481654c8-7262-461e-8eb8-42cd4b04fa40",
   "metadata": {},
   "outputs": [
    {
     "name": "stdout",
     "output_type": "stream",
     "text": [
      "hello world, hello world, hello world, hello world\n"
     ]
    }
   ],
   "source": [
    "# Retrieve from the K-V store, given some key\n",
    "cat /tmp/\"${key}\""
   ]
  },
  {
   "cell_type": "code",
   "execution_count": 19,
   "id": "1b603538-b0f5-4055-9823-0f9f0f7a0351",
   "metadata": {},
   "outputs": [
    {
     "name": "stdout",
     "output_type": "stream",
     "text": [
      "cf3400b0e78f01c31f1d5973100dffdaed0b4539  -\n",
      "cf3400b0e78f01c31f1d5973100dffdaed0b4539  -\n"
     ]
    }
   ],
   "source": [
    "# Verify contents are the same\n",
    "cat /tmp/example | shasum\n",
    "cat /tmp/\"${key}\" | shasum"
   ]
  },
  {
   "cell_type": "markdown",
   "id": "51637b9e-b697-40aa-a0e9-3b478f90b281",
   "metadata": {},
   "source": [
    "<br />\n",
    "\n",
    "#### Repeat the same but with compression"
   ]
  },
  {
   "cell_type": "code",
   "execution_count": 20,
   "id": "65b4f985-6e49-4154-8962-27c4f22802c3",
   "metadata": {},
   "outputs": [],
   "source": [
    "# Save some data\n",
    "echo \"hello world, hello world, hello world, hello world\" > /tmp/example"
   ]
  },
  {
   "cell_type": "code",
   "execution_count": 21,
   "id": "dcd6a9bf-6dd6-485b-858d-402b088cdea0",
   "metadata": {},
   "outputs": [],
   "source": [
    "# Generate a key\n",
    "key=$( < /tmp/example shasum | tr -d '\\n -')"
   ]
  },
  {
   "cell_type": "code",
   "execution_count": 22,
   "id": "0f5ed4fb-c563-4704-b6fb-269e0f5db656",
   "metadata": {},
   "outputs": [],
   "source": [
    "# Compress and save the data using the key as filename\n",
    "< /tmp/example gzip -c > /tmp/${key}"
   ]
  },
  {
   "cell_type": "code",
   "execution_count": 23,
   "id": "d34cc414-9cf1-4fa5-97e3-85b8202298af",
   "metadata": {},
   "outputs": [
    {
     "name": "stdout",
     "output_type": "stream",
     "text": [
      "-rw-r--r-- 1 jovyan users 37 Jun 14 18:14 /tmp/cf3400b0e78f01c31f1d5973100dffdaed0b4539\n",
      "-rw-r--r-- 1 jovyan users 51 Jun 14 18:14 /tmp/example\n"
     ]
    }
   ],
   "source": [
    "# Verify, i.e. files exist and not compressed file is smaller than original\n",
    "ls -lAF /tmp/example /tmp/\"${key}\""
   ]
  },
  {
   "cell_type": "code",
   "execution_count": 24,
   "id": "9d27553d-faa6-4eaa-ba0f-027e89128e34",
   "metadata": {},
   "outputs": [
    {
     "name": "stdout",
     "output_type": "stream",
     "text": [
      "hello world, hello world, hello world, hello world\n"
     ]
    }
   ],
   "source": [
    "# Retrieve from the K-V store, given some key\n",
    "gzip -dc /tmp/\"${key}\""
   ]
  },
  {
   "cell_type": "code",
   "execution_count": 25,
   "id": "940ef32f-eb6c-4d1c-9f64-d26a4f511981",
   "metadata": {},
   "outputs": [
    {
     "name": "stdout",
     "output_type": "stream",
     "text": [
      "cf3400b0e78f01c31f1d5973100dffdaed0b4539  -\n",
      "cf3400b0e78f01c31f1d5973100dffdaed0b4539  -\n"
     ]
    }
   ],
   "source": [
    "# Verify contents are the same\n",
    "cat /tmp/example | shasum\n",
    "gzip -dc /tmp/\"${key}\" | shasum"
   ]
  },
  {
   "cell_type": "markdown",
   "id": "067857f2-70e6-444d-9c84-5cbebdb4c9bf",
   "metadata": {},
   "source": [
    "<br />\n",
    "<br />\n",
    "<br />\n",
    "<br />\n",
    "<br />"
   ]
  },
  {
   "cell_type": "markdown",
   "id": "041cbb51-2b9a-4b5f-969f-d30e84d9bd11",
   "metadata": {},
   "source": [
    "## Graphs\n",
    "- collection of nodes (vertices) and 0 or more edges that connect nodes\n",
    "    - v3: solitary node\n",
    "    - v1: single edge\n",
    "    - v2: two edges\n",
    "    - v4: two edges\n",
    "    - v5: five edges, including a cycle\n",
    "- undirected graph: the edge \"connects\" one node to another\n",
    "    - (v1,v2), (v2,v1)\n",
    "- directed graph: the edge \"points\" from one node to another\n",
    "    - (v1,v2)\n",
    "- path: finite or infinite sequence of edges that joins a sequence of vertices \n",
    "    - v1, v2, v5, v4\n",
    "- directed acyclic graph ( DAG ): directed graphs with no directed cycles\n",
    "- rooted in-tree: a DAG where all paths terminate to a single node ( the root )\n",
    "\n",
    "![]( https://cdn.analyticsvidhya.com/wp-content/uploads/2018/03/graph1.png )\n"
   ]
  },
  {
   "cell_type": "markdown",
   "id": "6030bb90-e9a2-4733-9ec5-534c7241507d",
   "metadata": {},
   "source": [
    "### Operations\n",
    "- Adding a node\n",
    "- Adding a directed edge\n",
    "- Removing a directed edge\n",
    "- Removing a node\n"
   ]
  }
 ],
 "metadata": {
  "kernelspec": {
   "display_name": "Bash",
   "language": "bash",
   "name": "bash"
  },
  "language_info": {
   "codemirror_mode": "shell",
   "file_extension": ".sh",
   "mimetype": "text/x-sh",
   "name": "bash"
  }
 },
 "nbformat": 4,
 "nbformat_minor": 5
}
