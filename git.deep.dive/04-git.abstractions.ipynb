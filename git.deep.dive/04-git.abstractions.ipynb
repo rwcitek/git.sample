{
 "cells": [
  {
   "cell_type": "markdown",
   "id": "b9ad7a6c-f63a-4bac-841b-501fe1b6b8e5",
   "metadata": {},
   "source": [
    "# Abstraction and technologies"
   ]
  },
  {
   "cell_type": "markdown",
   "id": "1a600b10-df33-4736-a640-3529ecf32754",
   "metadata": {},
   "source": [
    "Git uses a number of abstractions, technologies, and tools behind the scenes, organized in the .git folder hierarchy.\n",
    "\n",
    "* filesystem\n",
    "* hash function, CHF SHA-1\n",
    "* compression\n",
    "* key-value store\n",
    "* graphs: trees, acyclic directed graphs ( DAGs )\n"
   ]
  },
  {
   "cell_type": "markdown",
   "id": "e5dd36ff-3565-4215-b79c-7fbe17fd5dca",
   "metadata": {},
   "source": [
    "<br />\n",
    "<br />\n",
    "<br />\n",
    "<br />\n",
    "<br />"
   ]
  },
  {
   "cell_type": "markdown",
   "id": "4f18a380-47ca-4b73-a981-a55d23227aa2",
   "metadata": {},
   "source": [
    "## Filesystem"
   ]
  },
  {
   "cell_type": "code",
   "execution_count": 1,
   "id": "d4b1a54d-7ea9-4858-8078-667dba451d1d",
   "metadata": {},
   "outputs": [
    {
     "name": "stdout",
     "output_type": "stream",
     "text": [
      "\u001b[01;34m.git\u001b[00m\n",
      "├── \u001b[01;34mbranches\u001b[00m\n",
      "├── COMMIT_EDITMSG\n",
      "├── config\n",
      "├── description\n",
      "├── HEAD\n",
      "├── \u001b[01;34mhooks\u001b[00m\n",
      "│   ├── \u001b[01;32mapplypatch-msg.sample\u001b[00m\n",
      "│   ├── \u001b[01;32mcommit-msg.sample\u001b[00m\n",
      "│   ├── \u001b[01;32mfsmonitor-watchman.sample\u001b[00m\n",
      "│   ├── \u001b[01;32mpost-update.sample\u001b[00m\n",
      "│   ├── \u001b[01;32mpre-applypatch.sample\u001b[00m\n",
      "│   ├── \u001b[01;32mpre-commit.sample\u001b[00m\n",
      "│   ├── \u001b[01;32mpre-merge-commit.sample\u001b[00m\n",
      "│   ├── \u001b[01;32mprepare-commit-msg.sample\u001b[00m\n",
      "│   ├── \u001b[01;32mpre-push.sample\u001b[00m\n",
      "│   ├── \u001b[01;32mpre-rebase.sample\u001b[00m\n",
      "│   ├── \u001b[01;32mpre-receive.sample\u001b[00m\n",
      "│   └── \u001b[01;32mupdate.sample\u001b[00m\n",
      "├── index\n",
      "├── \u001b[01;34minfo\u001b[00m\n",
      "│   └── exclude\n",
      "├── \u001b[01;34mlogs\u001b[00m\n",
      "│   ├── HEAD\n",
      "│   └── \u001b[01;34mrefs\u001b[00m\n",
      "│       └── \u001b[01;34mheads\u001b[00m\n",
      "│           └── master\n",
      "├── \u001b[01;34mobjects\u001b[00m\n",
      "│   ├── \u001b[01;34ma1\u001b[00m\n",
      "│   │   └── 3eb9d02b9ee2c2f0d073bbc65d91a18c7e7316\n",
      "│   ├── \u001b[01;34ma5\u001b[00m\n",
      "│   │   └── c19667710254f835085b99726e523457150e03\n",
      "│   ├── \u001b[01;34me5\u001b[00m\n",
      "│   │   └── dbedc48e87928e4a8222d070bad6dab173ff30\n",
      "│   ├── \u001b[01;34minfo\u001b[00m\n",
      "│   └── \u001b[01;34mpack\u001b[00m\n",
      "└── \u001b[01;34mrefs\u001b[00m\n",
      "    ├── \u001b[01;34mheads\u001b[00m\n",
      "    │   └── master\n",
      "    └── \u001b[01;34mtags\u001b[00m\n",
      "\n",
      "15 directories, 24 files\n"
     ]
    }
   ],
   "source": [
    "!tree .git"
   ]
  },
  {
   "cell_type": "markdown",
   "id": "0b54317c-13c1-4187-9ff0-46ee89f73ac7",
   "metadata": {},
   "source": [
    "A key feature of the file system is that no two files can have the same path/filename.  Those must be unique."
   ]
  },
  {
   "cell_type": "code",
   "execution_count": 2,
   "id": "cf8cf52d-d1d2-49a0-9a75-eb2d703f2bdf",
   "metadata": {},
   "outputs": [
    {
     "name": "stdout",
     "output_type": "stream",
     "text": [
      "drwxr-xr-x 2 jovyan users 4096 Jun  9 18:36 confusion/\n"
     ]
    }
   ],
   "source": [
    "!ls -Fld confusion"
   ]
  },
  {
   "cell_type": "code",
   "execution_count": 3,
   "id": "2ee0ef24-1c36-47f2-aea9-a5e5889ef709",
   "metadata": {},
   "outputs": [
    {
     "name": "stdout",
     "output_type": "stream",
     "text": [
      "confusion\n",
      "confusion/dup1  \n",
      "confusion/dup1\n",
      "confusion/dup1 \n",
      "confusion/dup1   \n"
     ]
    }
   ],
   "source": [
    "!find confusion"
   ]
  },
  {
   "cell_type": "code",
   "execution_count": 4,
   "id": "7326e700-bdfa-42fa-801e-80ce8ed77e92",
   "metadata": {},
   "outputs": [
    {
     "name": "stdout",
     "output_type": "stream",
     "text": [
      "confusion$\n",
      "confusion/dup1$\n",
      "confusion/dup1 $\n",
      "confusion/dup1  $\n",
      "confusion/dup1   $\n"
     ]
    }
   ],
   "source": [
    "!find confusion | sort | cat -vet"
   ]
  },
  {
   "cell_type": "markdown",
   "id": "1032c734-e56a-410b-a02b-39eede91bb42",
   "metadata": {},
   "source": [
    "<br />\n",
    "<br />\n",
    "<br />\n",
    "<br />\n",
    "<br />"
   ]
  },
  {
   "cell_type": "markdown",
   "id": "44827562-366c-46ec-afb9-f0a0842ba81e",
   "metadata": {},
   "source": [
    "## Hash functions\n",
    "* Cryptographic hash functions ( CHF )\n",
    "* SHA-1"
   ]
  },
  {
   "cell_type": "markdown",
   "id": "a3dfa575-5665-4e17-8c75-4caa4768132d",
   "metadata": {},
   "source": [
    "### Properties, features\n",
    "- fast to compute: O(n)\n",
    "- uniform size: maps data of arbitrary size to a fixed size ( SHA-1: 40 hex digits )\n",
    "- hex characters\n",
    "- one-way: given a hash output, infeasible to generate input; irreversible\n",
    "- deterministic: same input, same output\n",
    "    - if two hashes differ, their inputs differ\n",
    "- unique: infeasible that different inputs generate same output; collision\n",
    "- sensitive to change: small input change, large output change; avalanche effect\n"
   ]
  },
  {
   "cell_type": "code",
   "execution_count": 5,
   "id": "410bb6dd-f118-4b6c-86be-62d464604acf",
   "metadata": {},
   "outputs": [
    {
     "name": "stdout",
     "output_type": "stream",
     "text": [
      "12\n",
      "22596363b3de40b06f981fb85d82312e8c0ed511  -\n",
      "22596363b3de40b06f981fb85d82312e8c0ed511  -\n",
      "40\n"
     ]
    }
   ],
   "source": [
    "%%bash\n",
    "<<< \"hello world\" wc -c\n",
    "<<< \"hello world\" shasum -a 1\n",
    "<<< \"hello world\" shasum -a 1\n",
    "<<< \"hello world\" shasum -a 1 | tr -d '\\n -' | wc -c"
   ]
  },
  {
   "cell_type": "code",
   "execution_count": 6,
   "id": "43a15961-fd74-4014-8026-7f105039db9f",
   "metadata": {},
   "outputs": [
    {
     "name": "stdout",
     "output_type": "stream",
     "text": [
      "cf3400b0e78f01c31f1d5973100dffdaed0b4539  -\n"
     ]
    }
   ],
   "source": [
    "!<<< \"hello world, hello world, hello world, hello world\" shasum"
   ]
  },
  {
   "cell_type": "code",
   "execution_count": 7,
   "id": "a24d2b54-b7ef-4c7e-b6c4-eeef3d302c7f",
   "metadata": {},
   "outputs": [
    {
     "name": "stdout",
     "output_type": "stream",
     "text": [
      "69a8a6c977609373ce8c7fcf29148f13f014b0f2  -\n"
     ]
    }
   ],
   "source": [
    "!<<< \"hello world, hello world, hello wor1d, hello world\" shasum"
   ]
  },
  {
   "cell_type": "markdown",
   "id": "9acf6614-e89a-46b9-955c-fdeb589751de",
   "metadata": {},
   "source": [
    "Reference: [Wikipedia on CHF]( https://en.wikipedia.org/wiki/Cryptographic_hash_function )\n"
   ]
  },
  {
   "cell_type": "markdown",
   "id": "eb0109cd-71b4-488f-ac9c-bdbe55d69b66",
   "metadata": {},
   "source": [
    "<br />\n",
    "<br />\n",
    "<br />\n",
    "<br />\n",
    "<br />"
   ]
  },
  {
   "cell_type": "markdown",
   "id": "2264734d-b1ba-454a-9cdb-31703cd84544",
   "metadata": {},
   "source": [
    "## Compression ( lossless )\n",
    "- given input data, generate smaller output data ( usually )\n",
    "- reversible: given output data, regenerate input data, exactly\n",
    "- zip, gzip\n",
    "- git uses zlib\n"
   ]
  },
  {
   "cell_type": "code",
   "execution_count": 8,
   "id": "92ddde6a-c87e-453d-9427-334885b8b5ad",
   "metadata": {},
   "outputs": [
    {
     "name": "stdout",
     "output_type": "stream",
     "text": [
      "hello world, hello world, hello world, hello world\n"
     ]
    }
   ],
   "source": [
    "%%bash\n",
    "# compress\n",
    "<<< \"hello world, hello world, hello world, hello world\" gzip > /tmp/qbf.compressed\n",
    "# decompress\n",
    "< /tmp/qbf.compressed gzip -dc"
   ]
  },
  {
   "cell_type": "code",
   "execution_count": 9,
   "id": "56b376fd-9159-4867-a8cb-723a3fe50828",
   "metadata": {},
   "outputs": [
    {
     "name": "stdout",
     "output_type": "stream",
     "text": [
      "cf3400b0e78f01c31f1d5973100dffdaed0b4539  -\n"
     ]
    }
   ],
   "source": [
    "!< /tmp/qbf.compressed gzip -dc | shasum"
   ]
  },
  {
   "cell_type": "markdown",
   "id": "a52aaa59-3242-4b62-be0c-1ececfe02d3e",
   "metadata": {},
   "source": [
    "Reference: [Wikipedia Compression]( https://en.wikipedia.org/wiki/Data_compression )"
   ]
  },
  {
   "cell_type": "markdown",
   "id": "bd713fd6-6cca-4d0a-813e-9c38bad48468",
   "metadata": {},
   "source": [
    "<br />\n",
    "<br />\n",
    "<br />\n",
    "<br />\n",
    "<br />"
   ]
  },
  {
   "cell_type": "markdown",
   "id": "b0754274-d47e-4885-ae99-a2345f407740",
   "metadata": {},
   "source": [
    "## Key-value store\n",
    "- given a key, some value is returned\n",
    "- DB: CRUD - create, remove, update, delete\n",
    "- associative array ( awk ), hash ( perl, ruby ), dictionary (Python)\n",
    "- implementations: Berkeley DB, redis, Dynamo, S3\n",
    "- filesystem: no two files can have the same name"
   ]
  },
  {
   "cell_type": "markdown",
   "id": "b96ded5e-7874-4975-8b34-064d4574920e",
   "metadata": {},
   "source": [
    "### Stiching the pieces together\n",
    "- git uses sha-1 to generate a key, compresses the data, and then stores it on the filesystem\n",
    "- result: 1-to-1 map of key to value"
   ]
  },
  {
   "cell_type": "code",
   "execution_count": 10,
   "id": "7a6b1111-7cf7-460d-8960-1138eee4a43f",
   "metadata": {},
   "outputs": [
    {
     "name": "stdout",
     "output_type": "stream",
     "text": [
      "-rw-r--r-- 1 jovyan users 37 Jun 10 01:12 /tmp/cf3400b0e78f01c31f1d5973100dffdaed0b4539\n",
      "-rw-r--r-- 1 jovyan users 51 Jun 10 01:12 /tmp/example\n",
      "/tmp/example:                                  ASCII text\n",
      "/tmp/cf3400b0e78f01c31f1d5973100dffdaed0b4539: gzip compressed data, last modified: Thu Jun 10 01:12:21 2021, from Unix, original size modulo 2^32 51\n",
      "hello world, hello world, hello world, hello world\n"
     ]
    }
   ],
   "source": [
    "%%bash\n",
    "# this is NOT what git does, but close\n",
    "\n",
    "## Save to the K-V store, given some data\n",
    "echo \"hello world, hello world, hello world, hello world\" > /tmp/example\n",
    "key=$( < /tmp/example shasum | tr -d '\\n -')\n",
    "< /tmp/example gzip -c > /tmp/${key}\n",
    "\n",
    "# verify\n",
    "ls -lAF /tmp/example /tmp/\"${key}\"\n",
    "file /tmp/example /tmp/\"${key}\"\n",
    "\n",
    "## Retrieve from the K-V store, given some key\n",
    "gzip -dc /tmp/\"${key}\"\n"
   ]
  },
  {
   "cell_type": "markdown",
   "id": "067857f2-70e6-444d-9c84-5cbebdb4c9bf",
   "metadata": {},
   "source": [
    "<br />\n",
    "<br />\n",
    "<br />\n",
    "<br />\n",
    "<br />"
   ]
  },
  {
   "cell_type": "markdown",
   "id": "041cbb51-2b9a-4b5f-969f-d30e84d9bd11",
   "metadata": {},
   "source": [
    "## Graphs\n",
    "- collection of nodes (vertices) and 0 or more edges that connect nodes\n",
    "    - v3: solitary node\n",
    "    - v1: single edge\n",
    "    - v2: two edges\n",
    "    - v4: two edges\n",
    "    - v5: five edges, including a cycle\n",
    "- undirected graph: the edge \"connects\" one node to another\n",
    "    - (v1,v2), (v2,v1)\n",
    "- directed graph: the edge \"points\" from one node to another\n",
    "    - (v1,v2)\n",
    "- path: finite or infinite sequence of edges that joins a sequence of vertices \n",
    "    - v1, v2, v5, v4\n",
    "- directed acyclic graph ( DAG ): directed graphs with no directed cycles\n",
    "- rooted in-tree: a DAG where all paths terminate to a single node ( the root )\n",
    "\n",
    "![]( https://cdn.analyticsvidhya.com/wp-content/uploads/2018/03/graph1.png )\n"
   ]
  },
  {
   "cell_type": "markdown",
   "id": "6030bb90-e9a2-4733-9ec5-534c7241507d",
   "metadata": {},
   "source": [
    "### Operations\n",
    "- Adding a node\n",
    "- Adding a directed edge\n",
    "- Removing a directed edge\n",
    "- Removing a node\n"
   ]
  },
  {
   "cell_type": "code",
   "execution_count": null,
   "id": "e965a734-6b7e-4951-b020-41b4cd27b752",
   "metadata": {},
   "outputs": [],
   "source": []
  }
 ],
 "metadata": {
  "kernelspec": {
   "display_name": "Python 3",
   "language": "python",
   "name": "python3"
  },
  "language_info": {
   "codemirror_mode": {
    "name": "ipython",
    "version": 3
   },
   "file_extension": ".py",
   "mimetype": "text/x-python",
   "name": "python",
   "nbconvert_exporter": "python",
   "pygments_lexer": "ipython3",
   "version": "3.9.2"
  }
 },
 "nbformat": 4,
 "nbformat_minor": 5
}
