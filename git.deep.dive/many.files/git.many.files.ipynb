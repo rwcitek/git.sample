{
 "cells": [
  {
   "cell_type": "markdown",
   "id": "523d6b11-ee86-40db-85c9-075ad55c8ac3",
   "metadata": {},
   "source": [
    "# Experimenting with git"
   ]
  },
  {
   "cell_type": "markdown",
   "id": "dff95ced-c0ac-4d4b-82bd-3445aa8a4ca6",
   "metadata": {},
   "source": [
    "## Initialize and show current folder"
   ]
  },
  {
   "cell_type": "code",
   "execution_count": 1,
   "id": "783a3533-afe1-47e7-87c7-8139f81c9308",
   "metadata": {},
   "outputs": [
    {
     "name": "stdout",
     "output_type": "stream",
     "text": [
      "example.repo\n",
      "\n",
      "0 directories, 0 files\n"
     ]
    }
   ],
   "source": [
    "cd ~/work\n",
    "rm -rf example.repo\n",
    "mkdir -p example.repo\n",
    "tree example.repo\n",
    "cd example.repo"
   ]
  },
  {
   "cell_type": "markdown",
   "id": "0692a5a3-25eb-4c6f-a19c-4411beba0ec4",
   "metadata": {},
   "source": [
    "## Initialize the folder to have it be tracked by git"
   ]
  },
  {
   "cell_type": "code",
   "execution_count": 2,
   "id": "70aefe66-efdf-4f56-9d5b-0940416ab59b",
   "metadata": {},
   "outputs": [
    {
     "name": "stdout",
     "output_type": "stream",
     "text": [
      "Initialized empty Git repository in /home/jovyan/work/example.repo/.git/\n"
     ]
    }
   ],
   "source": [
    "git init"
   ]
  },
  {
   "cell_type": "code",
   "execution_count": 3,
   "id": "53a4af1a-1cf7-42b2-8651-1ca3fbef6f8a",
   "metadata": {},
   "outputs": [],
   "source": [
    "git config user.email \"you@example.com\"\n",
    "git config user.name \"Your Name\""
   ]
  },
  {
   "cell_type": "markdown",
   "id": "770d432c-29b1-4e7f-8a17-f10d30561c48",
   "metadata": {},
   "source": [
    "## Verify that git has been initialized"
   ]
  },
  {
   "cell_type": "code",
   "execution_count": 4,
   "id": "c360ebae-084e-4efa-b5aa-cad943ea2974",
   "metadata": {},
   "outputs": [
    {
     "name": "stdout",
     "output_type": "stream",
     "text": [
      "On branch master\n",
      "\n",
      "No commits yet\n",
      "\n",
      "nothing to commit (create/copy files and use \"git add\" to track)\n"
     ]
    }
   ],
   "source": [
    "git status"
   ]
  },
  {
   "cell_type": "code",
   "execution_count": 5,
   "id": "5dd7e039-c549-455c-99ff-cae898b943ca",
   "metadata": {},
   "outputs": [
    {
     "name": "stdout",
     "output_type": "stream",
     "text": [
      "user.email=you@example.com\n",
      "user.name=Your Name\n"
     ]
    }
   ],
   "source": [
    "git config --list | grep ^user"
   ]
  },
  {
   "cell_type": "code",
   "execution_count": 6,
   "id": "ab0f9bf3-62ae-4252-bf57-e158755270b6",
   "metadata": {},
   "outputs": [
    {
     "name": "stdout",
     "output_type": "stream",
     "text": [
      ".git/objects\n",
      "├── info\n",
      "└── pack\n",
      "\n",
      "2 directories, 0 files\n"
     ]
    }
   ],
   "source": [
    "tree .git/objects"
   ]
  },
  {
   "cell_type": "markdown",
   "id": "bebb9bcf-467f-4e10-8ace-048a9d2c57bd",
   "metadata": {},
   "source": [
    "# Lots of files\n",
    "Create a lot of files containing the same content and commit them to the repo.  Then have a look at the blob and tree objects.\n"
   ]
  },
  {
   "cell_type": "code",
   "execution_count": 7,
   "id": "fcade9be-d930-46e0-b1f4-854dde43aa3b",
   "metadata": {
    "tags": []
   },
   "outputs": [
    {
     "name": "stdout",
     "output_type": "stream",
     "text": [
      "file.001  file.003  file.005  file.007  file.009\n",
      "file.002  file.004  file.006  file.008  file.010\n"
     ]
    }
   ],
   "source": [
    "for i in {001..010} ; do\n",
    "  echo \"Hello, world\" > file.${i}\n",
    "done\n",
    "ls "
   ]
  },
  {
   "cell_type": "code",
   "execution_count": 8,
   "id": "d6530693-c7d9-4371-9f96-d1901193cc06",
   "metadata": {
    "tags": []
   },
   "outputs": [
    {
     "name": "stdout",
     "output_type": "stream",
     "text": [
      "On branch master\n",
      "\n",
      "No commits yet\n",
      "\n",
      "Changes to be committed:\n",
      "  (use \"git rm --cached <file>...\" to unstage)\n",
      "\tnew file:   file.001\n",
      "\tnew file:   file.002\n",
      "\tnew file:   file.003\n",
      "\tnew file:   file.004\n",
      "\tnew file:   file.005\n",
      "\tnew file:   file.006\n",
      "\tnew file:   file.007\n",
      "\tnew file:   file.008\n",
      "\tnew file:   file.009\n",
      "\tnew file:   file.010\n",
      "\n"
     ]
    }
   ],
   "source": [
    "git add file.*\n",
    "git status"
   ]
  },
  {
   "cell_type": "code",
   "execution_count": 9,
   "id": "c87d6cd6-ec79-4d88-99e9-957f16a37d22",
   "metadata": {
    "tags": []
   },
   "outputs": [
    {
     "name": "stdout",
     "output_type": "stream",
     "text": [
      "[master (root-commit) c616702] adding a bunch of files\n",
      " 10 files changed, 10 insertions(+)\n",
      " create mode 100644 file.001\n",
      " create mode 100644 file.002\n",
      " create mode 100644 file.003\n",
      " create mode 100644 file.004\n",
      " create mode 100644 file.005\n",
      " create mode 100644 file.006\n",
      " create mode 100644 file.007\n",
      " create mode 100644 file.008\n",
      " create mode 100644 file.009\n",
      " create mode 100644 file.010\n"
     ]
    }
   ],
   "source": [
    "git commit -m \"adding a bunch of files\""
   ]
  },
  {
   "cell_type": "code",
   "execution_count": 10,
   "id": "a6baa895-52bf-4236-be77-32439e44364a",
   "metadata": {},
   "outputs": [
    {
     "name": "stdout",
     "output_type": "stream",
     "text": [
      ".git/objects\n",
      "├── 51\n",
      "│   └── ffa9765850f9766f1f485ccf4a10c6d15c43bd\n",
      "├── a5\n",
      "│   └── c19667710254f835085b99726e523457150e03\n",
      "├── c6\n",
      "│   └── 16702b904b6209f633f05e94f8ab1f3a8f1102\n",
      "├── info\n",
      "└── pack\n",
      "\n",
      "5 directories, 3 files\n"
     ]
    }
   ],
   "source": [
    "tree .git/objects"
   ]
  },
  {
   "cell_type": "code",
   "execution_count": 11,
   "id": "74688860-bc3e-4f6f-abfa-c996a82e20d5",
   "metadata": {
    "tags": []
   },
   "outputs": [
    {
     "name": "stdout",
     "output_type": "stream",
     "text": [
      "== a5c19667710254f835085b99726e523457150e03 blob\n",
      "Hello, world\n",
      "\n",
      "== c616702b904b6209f633f05e94f8ab1f3a8f1102 commit\n",
      "tree 51ffa9765850f9766f1f485ccf4a10c6d15c43bd\n",
      "author Your Name <you@example.com> 1623694671 +0000\n",
      "committer Your Name <you@example.com> 1623694671 +0000\n",
      "\n",
      "adding a bunch of files\n",
      "\n",
      "== 51ffa9765850f9766f1f485ccf4a10c6d15c43bd tree\n",
      "100644 blob a5c19667710254f835085b99726e523457150e03\tfile.001\n",
      "100644 blob a5c19667710254f835085b99726e523457150e03\tfile.002\n",
      "100644 blob a5c19667710254f835085b99726e523457150e03\tfile.003\n",
      "100644 blob a5c19667710254f835085b99726e523457150e03\tfile.004\n",
      "100644 blob a5c19667710254f835085b99726e523457150e03\tfile.005\n",
      "100644 blob a5c19667710254f835085b99726e523457150e03\tfile.006\n",
      "100644 blob a5c19667710254f835085b99726e523457150e03\tfile.007\n",
      "100644 blob a5c19667710254f835085b99726e523457150e03\tfile.008\n",
      "100644 blob a5c19667710254f835085b99726e523457150e03\tfile.009\n",
      "100644 blob a5c19667710254f835085b99726e523457150e03\tfile.010\n",
      "\n"
     ]
    }
   ],
   "source": [
    "find .git/objects -type f | cut -d/ -f3- | tr -d '/' |\n",
    "while read object ; do\n",
    "  echo == ${object} $( git cat-file -t ${object} )\n",
    "  git cat-file -p ${object}\n",
    "  echo\n",
    "done"
   ]
  }
 ],
 "metadata": {
  "kernelspec": {
   "display_name": "Bash",
   "language": "bash",
   "name": "bash"
  },
  "language_info": {
   "codemirror_mode": "shell",
   "file_extension": ".sh",
   "mimetype": "text/x-sh",
   "name": "bash"
  }
 },
 "nbformat": 4,
 "nbformat_minor": 5
}
