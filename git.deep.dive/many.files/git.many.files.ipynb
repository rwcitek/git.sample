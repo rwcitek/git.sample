{
 "cells": [
  {
   "cell_type": "markdown",
   "id": "523d6b11-ee86-40db-85c9-075ad55c8ac3",
   "metadata": {},
   "source": [
    "# Experimenting with git"
   ]
  },
  {
   "cell_type": "markdown",
   "id": "dff95ced-c0ac-4d4b-82bd-3445aa8a4ca6",
   "metadata": {},
   "source": [
    "## Initialize and show current folder"
   ]
  },
  {
   "cell_type": "code",
   "execution_count": null,
   "id": "783a3533-afe1-47e7-87c7-8139f81c9308",
   "metadata": {},
   "outputs": [],
   "source": [
    "cd ~/work\n",
    "rm -rf example.repo\n",
    "mkdir -p example.repo\n",
    "tree example.repo\n",
    "cd example.repo"
   ]
  },
  {
   "cell_type": "markdown",
   "id": "0692a5a3-25eb-4c6f-a19c-4411beba0ec4",
   "metadata": {},
   "source": [
    "## Initialize the folder to have it be tracked by git"
   ]
  },
  {
   "cell_type": "code",
   "execution_count": null,
   "id": "70aefe66-efdf-4f56-9d5b-0940416ab59b",
   "metadata": {},
   "outputs": [],
   "source": [
    "git init"
   ]
  },
  {
   "cell_type": "code",
   "execution_count": null,
   "id": "53a4af1a-1cf7-42b2-8651-1ca3fbef6f8a",
   "metadata": {},
   "outputs": [],
   "source": [
    "git config user.email \"you@example.com\"\n",
    "git config user.name \"Your Name\""
   ]
  },
  {
   "cell_type": "markdown",
   "id": "770d432c-29b1-4e7f-8a17-f10d30561c48",
   "metadata": {},
   "source": [
    "## Verify that git has been initialized"
   ]
  },
  {
   "cell_type": "code",
   "execution_count": null,
   "id": "c360ebae-084e-4efa-b5aa-cad943ea2974",
   "metadata": {},
   "outputs": [],
   "source": [
    "git status"
   ]
  },
  {
   "cell_type": "code",
   "execution_count": null,
   "id": "5dd7e039-c549-455c-99ff-cae898b943ca",
   "metadata": {},
   "outputs": [],
   "source": [
    "git config --list | grep ^user"
   ]
  },
  {
   "cell_type": "code",
   "execution_count": null,
   "id": "ab0f9bf3-62ae-4252-bf57-e158755270b6",
   "metadata": {},
   "outputs": [],
   "source": [
    "tree .git/objects"
   ]
  },
  {
   "cell_type": "markdown",
   "id": "bebb9bcf-467f-4e10-8ace-048a9d2c57bd",
   "metadata": {},
   "source": [
    "# Lots of files\n",
    "Create a lot of files containing the same content and commit them to the repo.  Then have a look at the blob and tree objects.\n"
   ]
  },
  {
   "cell_type": "code",
   "execution_count": null,
   "id": "fcade9be-d930-46e0-b1f4-854dde43aa3b",
   "metadata": {
    "tags": []
   },
   "outputs": [],
   "source": [
    "for i in {001..010} ; do\n",
    "  echo \"Hello, world\" > file.${i}\n",
    "done\n",
    "ls "
   ]
  },
  {
   "cell_type": "code",
   "execution_count": null,
   "id": "d6530693-c7d9-4371-9f96-d1901193cc06",
   "metadata": {
    "tags": []
   },
   "outputs": [],
   "source": [
    "git add file.*\n",
    "git status"
   ]
  },
  {
   "cell_type": "code",
   "execution_count": null,
   "id": "c87d6cd6-ec79-4d88-99e9-957f16a37d22",
   "metadata": {
    "tags": []
   },
   "outputs": [],
   "source": [
    "git commit -m \"adding a bunch of files\""
   ]
  },
  {
   "cell_type": "code",
   "execution_count": null,
   "id": "a6baa895-52bf-4236-be77-32439e44364a",
   "metadata": {},
   "outputs": [],
   "source": [
    "tree .git/objects"
   ]
  },
  {
   "cell_type": "code",
   "execution_count": null,
   "id": "74688860-bc3e-4f6f-abfa-c996a82e20d5",
   "metadata": {
    "tags": []
   },
   "outputs": [],
   "source": [
    "find .git/objects -type f | cut -d/ -f3- | tr -d '/' | sort |\n",
    "while read object ; do\n",
    "  echo == ${object} $( git cat-file -t ${object} )\n",
    "  git cat-file -p ${object}\n",
    "  echo\n",
    "done"
   ]
  }
 ],
 "metadata": {
  "kernelspec": {
   "display_name": "Bash",
   "language": "bash",
   "name": "bash"
  },
  "language_info": {
   "codemirror_mode": "shell",
   "file_extension": ".sh",
   "mimetype": "text/x-sh",
   "name": "bash"
  }
 },
 "nbformat": 4,
 "nbformat_minor": 5
}
