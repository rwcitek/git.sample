{
 "cells": [
  {
   "cell_type": "markdown",
   "id": "4d498cd0-6b34-4ad2-96c2-2a472b2a5555",
   "metadata": {},
   "source": [
    "# Graphs with graphviz"
   ]
  },
  {
   "cell_type": "markdown",
   "id": "4548ca0e-9b33-4cc9-8d19-6e7976ab6d7d",
   "metadata": {},
   "source": [
    "From https://h1ros.github.io/posts/introduction-to-graphviz-in-jupyter-notebook/"
   ]
  },
  {
   "cell_type": "markdown",
   "id": "3919a3b6-9e2b-4cc4-a726-b294379b1726",
   "metadata": {},
   "source": [
    "## Basic Usage\n",
    "A graph is a collection of zero or more nodes ( vertices ) and zero or more edges that connect the nodes.  All nodes have an unique identifier (ID) and optionally some metadata.  \n",
    "\n",
    "Edges can be undirected or directed.  We'll be using only directed edges."
   ]
  },
  {
   "cell_type": "code",
   "execution_count": null,
   "id": "47b92242-7fc4-4193-bcb6-1ebe966f8d42",
   "metadata": {
    "tags": []
   },
   "outputs": [],
   "source": [
    "from graphviz import Digraph"
   ]
  },
  {
   "cell_type": "markdown",
   "id": "027d0d51-de6d-44ed-a5d8-ca2be7f1311c",
   "metadata": {
    "tags": []
   },
   "source": [
    "### Graph with Two Nodes"
   ]
  },
  {
   "cell_type": "code",
   "execution_count": null,
   "id": "d80432de-ba9a-4bac-9846-41be3d8529f3",
   "metadata": {
    "tags": []
   },
   "outputs": [],
   "source": [
    "# Create Digraph object\n",
    "dot = Digraph()\n",
    "\n",
    "# Add nodes 1 and 2\n",
    "dot.node('1', \"ID: 1\")\n",
    "dot.node('2', \"ID: 2\")\n",
    "\n",
    "# Visualize the graph\n",
    "dot"
   ]
  },
  {
   "cell_type": "markdown",
   "id": "5e2a08a4-1244-43a7-b912-b0f0834b9bbc",
   "metadata": {
    "tags": []
   },
   "source": [
    "### A Two-node Directed Graph"
   ]
  },
  {
   "cell_type": "code",
   "execution_count": null,
   "id": "9116139a-6826-4aa5-b943-cf06ebd4b3c3",
   "metadata": {
    "tags": []
   },
   "outputs": [],
   "source": [
    "# Create Digraph object\n",
    "dot = Digraph()\n",
    "dot.graph_attr['rankdir'] = 'LR'\n",
    "\n",
    "# Add nodes 1 and 2\n",
    "dot.node('1', \"ID: 1\")\n",
    "dot.node('2', \"ID: 2\")\n",
    "\n",
    "# Add edge between 1 and 2\n",
    "dot.edges(['12'])\n",
    "\n",
    "# Visualize the graph\n",
    "dot"
   ]
  },
  {
   "cell_type": "markdown",
   "id": "76d3743d-89d9-410e-8307-0c80b9779e93",
   "metadata": {},
   "source": [
    "## Directed Graph with Cycles"
   ]
  },
  {
   "cell_type": "code",
   "execution_count": null,
   "id": "c16a5aec-aab8-4fac-b206-a01dade22de5",
   "metadata": {
    "tags": []
   },
   "outputs": [],
   "source": [
    "# Create Digraph object\n",
    "dot = Digraph()\n",
    "\n",
    "# Left to right, instead top down\n",
    "dot.graph_attr['rankdir'] = 'LR'\n",
    "\n",
    "# Add nodes 1 and 2\n",
    "dot.node('1', \"ID: 1\")\n",
    "dot.node('2', \"ID: 2\")\n",
    "\n",
    "# Add edge between 1 and 2\n",
    "dot.edges(['12', '11', '21', '22'])\n",
    "\n",
    "# Visualize the graph\n",
    "dot"
   ]
  },
  {
   "cell_type": "markdown",
   "id": "f1b268a3-6cbe-4b86-b175-f5275dec36d7",
   "metadata": {},
   "source": [
    "## Right to Left"
   ]
  },
  {
   "cell_type": "code",
   "execution_count": null,
   "id": "77798c63-6b93-4af4-b08b-a25fda79dea1",
   "metadata": {
    "tags": []
   },
   "outputs": [],
   "source": [
    "# Create a directed graph object\n",
    "dot = Digraph()\n",
    "\n",
    "# Left to right, instead top down\n",
    "dot.graph_attr['rankdir'] = 'RL'\n",
    "\n",
    "# Add nodes 1 and 2\n",
    "dot.node('1', \"ID: sha\\nmetadata: something\")\n",
    "dot.node('2', \"world\")\n",
    "\n",
    "# Add edge between 1 and 2\n",
    "dot.edges(['21'])\n",
    "\n",
    "# Visualize the graph\n",
    "dot"
   ]
  },
  {
   "cell_type": "code",
   "execution_count": null,
   "id": "3d74ba6a-6af8-4e31-9d93-02bd698c7459",
   "metadata": {
    "tags": []
   },
   "outputs": [],
   "source": [
    "print(dot.source)"
   ]
  },
  {
   "cell_type": "markdown",
   "id": "32bb72aa-0b85-4f40-9488-42349a709a04",
   "metadata": {},
   "source": [
    "## Raw DOT"
   ]
  },
  {
   "cell_type": "code",
   "execution_count": null,
   "id": "35e867b9-09ad-447f-97f5-0cf0a52d93e1",
   "metadata": {},
   "outputs": [],
   "source": [
    "from graphviz import Source\n",
    "src = Source('''\n",
    "    digraph \"the holy hand grenade\" {\n",
    "        rankdir=LR;\n",
    "        1\n",
    "        2\n",
    "        3\n",
    "        lob\n",
    "        1 -> 2\n",
    "        2 -> 3\n",
    "        3 -> lob\n",
    "    }\n",
    "''')\n",
    "src"
   ]
  },
  {
   "cell_type": "code",
   "execution_count": null,
   "id": "3bd27962-fdbc-4b4d-b8b2-496c8eb6e43a",
   "metadata": {},
   "outputs": [],
   "source": [
    "from graphviz import Source\n",
    "src = Source('''\n",
    "    digraph \"the holy hand grenade\" {\n",
    "        rankdir=RL;\n",
    "        1\n",
    "        2\n",
    "        3\n",
    "        lob\n",
    "        2 -> 1\n",
    "        3 -> 2\n",
    "        lob -> 3\n",
    "    }\n",
    "''')\n",
    "src"
   ]
  },
  {
   "cell_type": "code",
   "execution_count": null,
   "id": "39c0a526-7957-40aa-b1a5-c70a6a2c015e",
   "metadata": {},
   "outputs": [],
   "source": []
  },
  {
   "cell_type": "markdown",
   "id": "01e53f94-3931-482c-8091-0bb4eb50268b",
   "metadata": {},
   "source": [
    "## A Tree"
   ]
  },
  {
   "cell_type": "code",
   "execution_count": null,
   "id": "f896e20c-f807-48a2-8808-7c595ed0f472",
   "metadata": {
    "tags": []
   },
   "outputs": [],
   "source": [
    "# Create Digraph object\n",
    "dot = Digraph()\n",
    "dot.graph_attr['rankdir'] = 'LR'\n",
    "\n",
    "# Add nodes\n",
    "dot.node('1')\n",
    "dot.node('3')\n",
    "dot.node('2')\n",
    "dot.node('5')\n",
    "\n",
    "# Add edges\n",
    "dot.edges(['12', '13', '35'])\n",
    "\n",
    "# Visualize the graph\n",
    "dot\n"
   ]
  },
  {
   "cell_type": "code",
   "execution_count": null,
   "id": "4f10f131-daf6-45d1-aebd-8fccec247c5a",
   "metadata": {},
   "outputs": [],
   "source": []
  }
 ],
 "metadata": {
  "kernelspec": {
   "display_name": "Python 3",
   "language": "python",
   "name": "python3"
  },
  "language_info": {
   "codemirror_mode": {
    "name": "ipython",
    "version": 3
   },
   "file_extension": ".py",
   "mimetype": "text/x-python",
   "name": "python",
   "nbconvert_exporter": "python",
   "pygments_lexer": "ipython3",
   "version": "3.9.2"
  }
 },
 "nbformat": 4,
 "nbformat_minor": 5
}
