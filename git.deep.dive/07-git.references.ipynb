{
 "cells": [
  {
   "cell_type": "markdown",
   "id": "e61147bb-56ca-4a01-a4b0-f43c996a26f7",
   "metadata": {},
   "source": [
    "# References"
   ]
  },
  {
   "cell_type": "markdown",
   "id": "bdd63671-82bd-4316-82ed-c5a0acec5e9d",
   "metadata": {},
   "source": [
    "## ProGit\n",
    "\n",
    "https://git-scm.com/book/en/v2\n",
    "\n",
    "![]( https://git-scm.com/images/progit2.png )"
   ]
  },
  {
   "cell_type": "markdown",
   "id": "3c34877d-6f0b-4e04-8875-ef3ae4b0fb47",
   "metadata": {},
   "source": [
    "## Corey Schafer\n",
    "\n",
    "YouTube vidoes about git\n",
    "\n",
    "https://www.youtube.com/playlist?list=PL-NwkijAvHMLBvDNrV1xNrtjk4o8DSftN"
   ]
  },
  {
   "cell_type": "markdown",
   "id": "7cf104ad-e869-4d40-b364-fba2d3c72b89",
   "metadata": {},
   "source": [
    "## My GitHub page\n",
    "\n",
    "https://github.com/rwcitek/"
   ]
  },
  {
   "cell_type": "code",
   "execution_count": null,
   "id": "264c0ee7-ffa3-4afd-9f54-4baceec2bb06",
   "metadata": {},
   "outputs": [],
   "source": []
  }
 ],
 "metadata": {
  "kernelspec": {
   "display_name": "Python 3",
   "language": "python",
   "name": "python3"
  },
  "language_info": {
   "codemirror_mode": {
    "name": "ipython",
    "version": 3
   },
   "file_extension": ".py",
   "mimetype": "text/x-python",
   "name": "python",
   "nbconvert_exporter": "python",
   "pygments_lexer": "ipython3",
   "version": "3.9.2"
  }
 },
 "nbformat": 4,
 "nbformat_minor": 5
}
