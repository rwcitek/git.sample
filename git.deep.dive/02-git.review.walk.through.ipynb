{
 "cells": [
  {
   "cell_type": "markdown",
   "id": "83976bdd-7bd9-446a-9837-f83c3568b864",
   "metadata": {},
   "source": [
    "# Walk through review basic usage"
   ]
  },
  {
   "cell_type": "markdown",
   "id": "39269414-d6fc-4fe2-afb3-83257bf8905c",
   "metadata": {},
   "source": [
    "## Initialize and show current folder"
   ]
  },
  {
   "cell_type": "code",
   "execution_count": 1,
   "id": "fdaa29ac-3c4a-433e-8ef4-6653ed4b4040",
   "metadata": {},
   "outputs": [
    {
     "name": "stdout",
     "output_type": "stream",
     "text": [
      "total 104\n",
      "-rw-rw-r-- 1 jovyan  1000   311 Jun 10 00:28 aliases.rc\n",
      "drwxr-xr-x 2 jovyan users  4096 Jun  9 18:36 confusion\n",
      "-rw-r--r-- 1 jovyan users  9158 Jun  9 23:29 git.abstractions.ipynb\n",
      "-rw-rw-r-- 1 jovyan  1000    60 Jun  9 20:56 .gitignore\n",
      "-rw-r--r-- 1 jovyan users 25631 Jun  9 23:27 git.plumbing.ipynb\n",
      "-rw-r--r-- 1 jovyan users  1484 Jun  9 23:43 git.references.ipynb\n",
      "-rw-r--r-- 1 jovyan users  5302 Jun  9 23:29 git.repository.ipynb\n",
      "-rw-r--r-- 1 jovyan users  1255 Jun 10 00:07 git.review.overview.ipynb\n",
      "-rw-r--r-- 1 jovyan users 11156 Jun 10 00:25 git.review.walk.through.ipynb\n",
      "drwxr-xr-x 3 jovyan users  4096 Jun 10 00:24 git.using.remote\n",
      "drwxr-xr-x 2 jovyan users  4096 Jun 10 00:26 .ipynb_checkpoints\n",
      "-rw-r--r-- 1 jovyan users  3609 Jun 10 00:34 my.setup.ipynb\n",
      "drwxr-xr-x 3 jovyan users  4096 Jun 10 00:24 repo\n",
      "-rw-r--r-- 1 jovyan users  3252 Jun 10 00:25 Summary.ipynb\n",
      "-rw-r--r-- 1 jovyan users  2281 Jun  9 21:19 Untitled.ipynb\n"
     ]
    }
   ],
   "source": [
    "%%bash\n",
    "rm -rf ./.git file.*\n",
    "ls -lA"
   ]
  },
  {
   "cell_type": "markdown",
   "id": "63934ca6-1f3f-4fe6-adf3-f1243c46e949",
   "metadata": {},
   "source": [
    "<br />\n",
    "<br />\n",
    "<br />\n",
    "<br />\n",
    "<br />"
   ]
  },
  {
   "cell_type": "markdown",
   "id": "d24aedb6-9020-48a0-acab-65db36ee159a",
   "metadata": {},
   "source": [
    "## Initialize the folder to have it be tracked by git"
   ]
  },
  {
   "cell_type": "code",
   "execution_count": 2,
   "id": "2b2a6e6c-21d8-4c9d-a6e0-47bc96228f2d",
   "metadata": {},
   "outputs": [
    {
     "name": "stdout",
     "output_type": "stream",
     "text": [
      "Initialized empty Git repository in /home/jovyan/work/.git/\n"
     ]
    }
   ],
   "source": [
    "!git init"
   ]
  },
  {
   "cell_type": "code",
   "execution_count": 3,
   "id": "5925446c-3398-4ac8-8aa1-a252da813d73",
   "metadata": {},
   "outputs": [],
   "source": [
    "%%bash\n",
    "git config --global user.email \"you@example.com\"\n",
    "git config --global user.name \"Your Name\""
   ]
  },
  {
   "cell_type": "markdown",
   "id": "e8bb372e-6d45-44c5-b8d7-45c29439d6af",
   "metadata": {},
   "source": [
    "<br />\n",
    "<br />\n",
    "<br />\n",
    "<br />\n",
    "<br />\n",
    "\n",
    "## Verify that git has been initialized"
   ]
  },
  {
   "cell_type": "code",
   "execution_count": 4,
   "id": "c56886f1-1710-48e5-974e-b09115e60165",
   "metadata": {},
   "outputs": [
    {
     "name": "stdout",
     "output_type": "stream",
     "text": [
      "On branch master\n",
      "\n",
      "No commits yet\n",
      "\n",
      "Untracked files:\n",
      "  (use \"git add <file>...\" to include in what will be committed)\n",
      "\t\u001b[31mgit.using.remote/\u001b[m\n",
      "\t\u001b[31mrepo/\u001b[m\n",
      "\n",
      "nothing added to commit but untracked files present (use \"git add\" to track)\n"
     ]
    }
   ],
   "source": [
    "!git status"
   ]
  },
  {
   "cell_type": "code",
   "execution_count": 5,
   "id": "29ee37d8-d863-4e09-ac2a-75f743761c1b",
   "metadata": {},
   "outputs": [
    {
     "name": "stdout",
     "output_type": "stream",
     "text": [
      "user.email=you@example.com\n",
      "user.name=Your Name\n"
     ]
    }
   ],
   "source": [
    "!git config --list | grep ^user"
   ]
  },
  {
   "cell_type": "code",
   "execution_count": 6,
   "id": "15e25ca8-b110-4bd9-8efc-2eb60e3c206d",
   "metadata": {},
   "outputs": [
    {
     "name": "stdout",
     "output_type": "stream",
     "text": [
      "total 112\n",
      "-rw-rw-r-- 1 jovyan  1000   311 Jun 10 00:28 aliases.rc\n",
      "drwxr-xr-x 2 jovyan users  4096 Jun  9 18:36 confusion\n",
      "drwxr-xr-x 7 jovyan users  4096 Jun 10 00:49 .git\n",
      "-rw-r--r-- 1 jovyan users  9158 Jun  9 23:29 git.abstractions.ipynb\n",
      "-rw-rw-r-- 1 jovyan  1000    60 Jun  9 20:56 .gitignore\n",
      "-rw-r--r-- 1 jovyan users 25631 Jun  9 23:27 git.plumbing.ipynb\n",
      "-rw-r--r-- 1 jovyan users  1484 Jun  9 23:43 git.references.ipynb\n",
      "-rw-r--r-- 1 jovyan users  5302 Jun  9 23:29 git.repository.ipynb\n",
      "-rw-r--r-- 1 jovyan users  1255 Jun 10 00:07 git.review.overview.ipynb\n",
      "-rw-r--r-- 1 jovyan users 12516 Jun 10 00:49 git.review.walk.through.ipynb\n",
      "drwxr-xr-x 3 jovyan users  4096 Jun 10 00:24 git.using.remote\n",
      "drwxr-xr-x 2 jovyan users  4096 Jun 10 00:26 .ipynb_checkpoints\n",
      "-rw-r--r-- 1 jovyan users  3609 Jun 10 00:34 my.setup.ipynb\n",
      "drwxr-xr-x 3 jovyan users  4096 Jun 10 00:24 repo\n",
      "-rw-r--r-- 1 jovyan users  3252 Jun 10 00:25 Summary.ipynb\n",
      "-rw-r--r-- 1 jovyan users  2281 Jun  9 21:19 Untitled.ipynb\n"
     ]
    }
   ],
   "source": [
    "!ls -lA"
   ]
  },
  {
   "cell_type": "markdown",
   "id": "7c918a81-9788-4db2-961e-39fbf18e0515",
   "metadata": {},
   "source": [
    "<br />\n",
    "<br />\n",
    "<br />\n",
    "<br />\n",
    "<br />"
   ]
  },
  {
   "cell_type": "markdown",
   "id": "2d0c56e4-6243-4aab-97f3-2827048c614d",
   "metadata": {},
   "source": [
    "## What is in the .git folder?\n",
    "\n",
    "We'll find out in a little bit."
   ]
  },
  {
   "cell_type": "markdown",
   "id": "45c71480-8a22-41d2-81d7-1d0f8ce6a613",
   "metadata": {},
   "source": [
    "<br />\n",
    "<br />\n",
    "<br />\n",
    "<br />\n",
    "<br />"
   ]
  },
  {
   "cell_type": "markdown",
   "id": "bd92480f-0726-4b57-9e49-a880c52cd293",
   "metadata": {},
   "source": [
    "## Create a file"
   ]
  },
  {
   "cell_type": "code",
   "execution_count": 7,
   "id": "385841be-745a-466b-be2b-f8d1f3c3a22e",
   "metadata": {},
   "outputs": [],
   "source": [
    "!echo \"Hello, world\" > file.001"
   ]
  },
  {
   "cell_type": "code",
   "execution_count": 8,
   "id": "9fff702e-8622-4e1e-8305-4b56eb17247b",
   "metadata": {},
   "outputs": [
    {
     "name": "stdout",
     "output_type": "stream",
     "text": [
      "-rw-r--r-- 1 jovyan users 13 Jun 10 00:50 file.001\n"
     ]
    }
   ],
   "source": [
    "!ls -lA file.*"
   ]
  },
  {
   "cell_type": "code",
   "execution_count": 9,
   "id": "a769d8c1-79f1-43d6-a598-b24ff727f232",
   "metadata": {},
   "outputs": [
    {
     "name": "stdout",
     "output_type": "stream",
     "text": [
      "     1\tHello, world\n"
     ]
    }
   ],
   "source": [
    "!cat -n file.001"
   ]
  },
  {
   "cell_type": "markdown",
   "id": "8bdafc66-3994-4105-9a6f-1552eb1bf178",
   "metadata": {},
   "source": [
    "<br />\n",
    "<br />\n",
    "<br />\n",
    "<br />\n",
    "<br />"
   ]
  },
  {
   "cell_type": "markdown",
   "id": "15068f09-709a-417d-a8ee-2b40d8e4ca7d",
   "metadata": {},
   "source": [
    "## Add file to the git repository (repo)"
   ]
  },
  {
   "cell_type": "code",
   "execution_count": 10,
   "id": "814f11e6-d9df-4fc8-b9ee-d24d7c9b8fbb",
   "metadata": {},
   "outputs": [],
   "source": [
    "!git add file.001"
   ]
  },
  {
   "cell_type": "code",
   "execution_count": 11,
   "id": "ce6a441e-4fd2-4fd1-8c7b-36408c3bcd54",
   "metadata": {},
   "outputs": [
    {
     "name": "stdout",
     "output_type": "stream",
     "text": [
      "On branch master\n",
      "\n",
      "No commits yet\n",
      "\n",
      "Changes to be committed:\n",
      "  (use \"git rm --cached <file>...\" to unstage)\n",
      "\t\u001b[32mnew file:   file.001\u001b[m\n",
      "\n",
      "Untracked files:\n",
      "  (use \"git add <file>...\" to include in what will be committed)\n",
      "\t\u001b[31mgit.using.remote/\u001b[m\n",
      "\t\u001b[31mrepo/\u001b[m\n",
      "\n"
     ]
    }
   ],
   "source": [
    "!git status"
   ]
  },
  {
   "cell_type": "code",
   "execution_count": 12,
   "id": "5b84b013-8861-4756-98ea-5a9e8d367569",
   "metadata": {},
   "outputs": [
    {
     "name": "stdout",
     "output_type": "stream",
     "text": [
      "[master (root-commit) 11a6354] file number one\n",
      " 1 file changed, 1 insertion(+)\n",
      " create mode 100644 file.001\n"
     ]
    }
   ],
   "source": [
    "!git commit -m \"file number one\""
   ]
  },
  {
   "cell_type": "code",
   "execution_count": 13,
   "id": "328c9eee-8a89-45f4-b528-45e7fda0e126",
   "metadata": {},
   "outputs": [
    {
     "name": "stdout",
     "output_type": "stream",
     "text": [
      "On branch master\n",
      "Untracked files:\n",
      "  (use \"git add <file>...\" to include in what will be committed)\n",
      "\t\u001b[31mgit.using.remote/\u001b[m\n",
      "\t\u001b[31mrepo/\u001b[m\n",
      "\n",
      "nothing added to commit but untracked files present (use \"git add\" to track)\n"
     ]
    }
   ],
   "source": [
    "!git status"
   ]
  },
  {
   "cell_type": "code",
   "execution_count": 14,
   "id": "1b23bb0a-b7e4-41e2-934b-f77fe5d6b05b",
   "metadata": {},
   "outputs": [
    {
     "name": "stdout",
     "output_type": "stream",
     "text": [
      "\u001b[33mcommit 11a6354eed76b3b12b2ad927a3885a5e53ca9165\u001b[m\u001b[33m (\u001b[m\u001b[1;36mHEAD -> \u001b[m\u001b[1;32mmaster\u001b[m\u001b[33m)\u001b[m\n",
      "Author: Your Name <you@example.com>\n",
      "Date:   Thu Jun 10 00:50:29 2021 +0000\n",
      "\n",
      "    file number one\n"
     ]
    }
   ],
   "source": [
    "!git log"
   ]
  },
  {
   "cell_type": "markdown",
   "id": "55ce5e3a-acb9-4790-939a-75869317d6c7",
   "metadata": {},
   "source": [
    "<br />\n",
    "<br />\n",
    "<br />\n",
    "<br />\n",
    "<br />"
   ]
  },
  {
   "cell_type": "markdown",
   "id": "d8c16fd6-716c-4b43-8d76-1992fe511e47",
   "metadata": {},
   "source": [
    "## What's that random stuff after the commit?\n",
    "We'll find out in a little bit."
   ]
  },
  {
   "cell_type": "markdown",
   "id": "287f808a-cb70-4c6f-aa4e-288c201f004a",
   "metadata": {},
   "source": [
    "<br />\n",
    "<br />\n",
    "<br />\n",
    "<br />\n",
    "<br />"
   ]
  },
  {
   "cell_type": "markdown",
   "id": "f59a995a-da13-4773-81ae-ad497052090c",
   "metadata": {},
   "source": [
    "## Change contents of a tracked file"
   ]
  },
  {
   "cell_type": "code",
   "execution_count": 15,
   "id": "5715b174-2829-4fa6-8205-9e7af0074f3a",
   "metadata": {},
   "outputs": [],
   "source": [
    "!echo \"Greetings, earthlings\" > file.001"
   ]
  },
  {
   "cell_type": "code",
   "execution_count": 16,
   "id": "23dd3381-7987-419f-9966-0435642ff287",
   "metadata": {},
   "outputs": [
    {
     "name": "stdout",
     "output_type": "stream",
     "text": [
      "     1\tGreetings, earthlings\n"
     ]
    }
   ],
   "source": [
    "!cat -n file.001"
   ]
  },
  {
   "cell_type": "code",
   "execution_count": 17,
   "id": "ecc75f85-a03f-49d8-9305-0e36e6a1e574",
   "metadata": {},
   "outputs": [
    {
     "name": "stdout",
     "output_type": "stream",
     "text": [
      "On branch master\n",
      "Changes not staged for commit:\n",
      "  (use \"git add <file>...\" to update what will be committed)\n",
      "  (use \"git restore <file>...\" to discard changes in working directory)\n",
      "\t\u001b[31mmodified:   file.001\u001b[m\n",
      "\n",
      "Untracked files:\n",
      "  (use \"git add <file>...\" to include in what will be committed)\n",
      "\t\u001b[31mgit.using.remote/\u001b[m\n",
      "\t\u001b[31mrepo/\u001b[m\n",
      "\n",
      "no changes added to commit (use \"git add\" and/or \"git commit -a\")\n"
     ]
    }
   ],
   "source": [
    "!git status"
   ]
  },
  {
   "cell_type": "code",
   "execution_count": 18,
   "id": "ab8ec853-c5d5-49bb-85d7-fbfd910d5bc5",
   "metadata": {},
   "outputs": [
    {
     "name": "stdout",
     "output_type": "stream",
     "text": [
      "\u001b[1mdiff --git a/file.001 b/file.001\u001b[m\n",
      "\u001b[1mindex a5c1966..34a27f7 100644\u001b[m\n",
      "\u001b[1m--- a/file.001\u001b[m\n",
      "\u001b[1m+++ b/file.001\u001b[m\n",
      "\u001b[36m@@ -1 +1 @@\u001b[m\n",
      "\u001b[31m-Hello, world\u001b[m\n",
      "\u001b[32m+\u001b[m\u001b[32mGreetings, earthlings\u001b[m\n"
     ]
    }
   ],
   "source": [
    "!git diff -- file.001"
   ]
  },
  {
   "cell_type": "markdown",
   "id": "91d67af3-8dc2-47c0-b3a1-f1e21dcc73e5",
   "metadata": {},
   "source": [
    "<br />\n",
    "<br />\n",
    "<br />\n",
    "<br />\n",
    "<br />"
   ]
  },
  {
   "cell_type": "markdown",
   "id": "27c590cf-35ac-4c1c-92b9-76b889095e0a",
   "metadata": {},
   "source": [
    "## Commit change to repository"
   ]
  },
  {
   "cell_type": "code",
   "execution_count": 19,
   "id": "142538d1-12e0-4f7d-985e-c0005c7c57e1",
   "metadata": {},
   "outputs": [
    {
     "name": "stdout",
     "output_type": "stream",
     "text": [
      "[master 8af8491] changed salutation in file.001\n",
      " 1 file changed, 1 insertion(+), 1 deletion(-)\n"
     ]
    }
   ],
   "source": [
    "!git commit -am \"changed salutation in file.001\""
   ]
  },
  {
   "cell_type": "code",
   "execution_count": 20,
   "id": "9c873dff-e93b-48a6-8619-a36628faa34b",
   "metadata": {},
   "outputs": [
    {
     "name": "stdout",
     "output_type": "stream",
     "text": [
      "On branch master\n",
      "Untracked files:\n",
      "  (use \"git add <file>...\" to include in what will be committed)\n",
      "\t\u001b[31mgit.using.remote/\u001b[m\n",
      "\t\u001b[31mrepo/\u001b[m\n",
      "\n",
      "nothing added to commit but untracked files present (use \"git add\" to track)\n"
     ]
    }
   ],
   "source": [
    "!git status"
   ]
  },
  {
   "cell_type": "code",
   "execution_count": 21,
   "id": "00fc1848-7441-40b2-8201-d453fb3ae9c2",
   "metadata": {},
   "outputs": [
    {
     "name": "stdout",
     "output_type": "stream",
     "text": [
      "\u001b[33mcommit 8af849161ee9addab0ee95ea7f9443927a2b4549\u001b[m\u001b[33m (\u001b[m\u001b[1;36mHEAD -> \u001b[m\u001b[1;32mmaster\u001b[m\u001b[33m)\u001b[m\n",
      "Author: Your Name <you@example.com>\n",
      "Date:   Thu Jun 10 00:51:45 2021 +0000\n",
      "\n",
      "    changed salutation in file.001\n",
      "\n",
      "\u001b[33mcommit 11a6354eed76b3b12b2ad927a3885a5e53ca9165\u001b[m\n",
      "Author: Your Name <you@example.com>\n",
      "Date:   Thu Jun 10 00:50:29 2021 +0000\n",
      "\n",
      "    file number one\n"
     ]
    }
   ],
   "source": [
    "!git log"
   ]
  },
  {
   "cell_type": "markdown",
   "id": "689447f3-ced5-4a89-9a2c-252e9cc1c484",
   "metadata": {},
   "source": [
    "<br />\n",
    "<br />\n",
    "<br />\n",
    "<br />\n",
    "<br />"
   ]
  },
  {
   "cell_type": "markdown",
   "id": "c1711d1e-62bc-445e-858c-00156388d1a8",
   "metadata": {},
   "source": [
    "## Add another file"
   ]
  },
  {
   "cell_type": "code",
   "execution_count": 22,
   "id": "0fe9873f-241a-4660-921e-1f73422cf427",
   "metadata": {},
   "outputs": [],
   "source": [
    "!echo \"Hello, world ... again\" > file.002"
   ]
  },
  {
   "cell_type": "code",
   "execution_count": 23,
   "id": "e5999d9a-7282-4f4c-9b24-c5e95b6aa23c",
   "metadata": {},
   "outputs": [
    {
     "name": "stdout",
     "output_type": "stream",
     "text": [
      "-rw-r--r-- 1 jovyan users 22 Jun 10 00:51 file.001\n",
      "-rw-r--r-- 1 jovyan users 23 Jun 10 00:52 file.002\n"
     ]
    }
   ],
   "source": [
    "!ls -lA file*"
   ]
  },
  {
   "cell_type": "code",
   "execution_count": 24,
   "id": "160496fd-70b3-4b6e-a3d8-5ac3677e9272",
   "metadata": {},
   "outputs": [
    {
     "name": "stdout",
     "output_type": "stream",
     "text": [
      "     1\tHello, world ... again\n"
     ]
    }
   ],
   "source": [
    "!cat -n file.002"
   ]
  },
  {
   "cell_type": "markdown",
   "id": "1141ca82-d8af-4496-b564-d761fc4a3c93",
   "metadata": {},
   "source": [
    "<br />\n",
    "<br />\n",
    "<br />\n",
    "<br />\n",
    "<br />"
   ]
  },
  {
   "cell_type": "markdown",
   "id": "5f45463d-4671-44bd-b668-35a961149f61",
   "metadata": {},
   "source": [
    "## Commit new file to repository"
   ]
  },
  {
   "cell_type": "code",
   "execution_count": 25,
   "id": "871a347b-8517-4ccd-9b2d-29c3d0c855a7",
   "metadata": {},
   "outputs": [],
   "source": [
    "!git add file.002"
   ]
  },
  {
   "cell_type": "code",
   "execution_count": 26,
   "id": "00d39ccd-1035-4d26-b54a-a07d3066145e",
   "metadata": {},
   "outputs": [
    {
     "name": "stdout",
     "output_type": "stream",
     "text": [
      "[master 1bf3d2f] new file file.002\n",
      " 1 file changed, 1 insertion(+)\n",
      " create mode 100644 file.002\n"
     ]
    }
   ],
   "source": [
    "!git commit -m \"new file file.002\""
   ]
  },
  {
   "cell_type": "code",
   "execution_count": 27,
   "id": "89e6faaa-8af0-4ed5-9e9d-1734f8c00597",
   "metadata": {},
   "outputs": [
    {
     "name": "stdout",
     "output_type": "stream",
     "text": [
      "\u001b[33mcommit 1bf3d2f7162edce72907d21e216b455ec94ec717\u001b[m\u001b[33m (\u001b[m\u001b[1;36mHEAD -> \u001b[m\u001b[1;32mmaster\u001b[m\u001b[33m)\u001b[m\n",
      "Author: Your Name <you@example.com>\n",
      "Date:   Thu Jun 10 00:52:17 2021 +0000\n",
      "\n",
      "    new file file.002\n",
      "\n",
      "\u001b[33mcommit 8af849161ee9addab0ee95ea7f9443927a2b4549\u001b[m\n",
      "Author: Your Name <you@example.com>\n",
      "Date:   Thu Jun 10 00:51:45 2021 +0000\n",
      "\n",
      "    changed salutation in file.001\n",
      "\n",
      "\u001b[33mcommit 11a6354eed76b3b12b2ad927a3885a5e53ca9165\u001b[m\n",
      "Author: Your Name <you@example.com>\n",
      "Date:   Thu Jun 10 00:50:29 2021 +0000\n",
      "\n",
      "    file number one\n"
     ]
    }
   ],
   "source": [
    "!git log"
   ]
  },
  {
   "cell_type": "code",
   "execution_count": 28,
   "id": "7b865145-abf2-4560-9e9b-a31144371071",
   "metadata": {},
   "outputs": [
    {
     "name": "stdout",
     "output_type": "stream",
     "text": [
      "file.001\n",
      "file.002\n"
     ]
    }
   ],
   "source": [
    "!git ls-files"
   ]
  },
  {
   "cell_type": "markdown",
   "id": "71b3c7da-ffbd-40ae-84ce-3dd26448a231",
   "metadata": {},
   "source": [
    "<br />\n",
    "<br />\n",
    "<br />\n",
    "<br />\n",
    "<br />"
   ]
  },
  {
   "cell_type": "markdown",
   "id": "f4637f9f-4a6a-4349-a066-270a1270fade",
   "metadata": {},
   "source": [
    "## Summary of what happened\n",
    "1. initialized and configured git repo\n",
    "1. created a file\n",
    "1. added and committed the file to the repo\n",
    "1. changed the file\n",
    "1. commited the changed file to the repo\n",
    "1. created a new file\n",
    "1. added and committed the new file to the repo"
   ]
  },
  {
   "cell_type": "markdown",
   "id": "7cd4df08-9622-4671-b277-381e8c8e15eb",
   "metadata": {},
   "source": [
    "## Front-end vs Back-end\n",
    "* front-end commands == \"porcelain\" commands\n",
    "* back-end commands === \"plumbing\" commands <== magic"
   ]
  },
  {
   "cell_type": "markdown",
   "id": "c99a69b6-a095-47fb-8ad3-786128dff205",
   "metadata": {},
   "source": [
    "What we just did with the \"procelain\" commands, we are going to recreate using the \"plumbing\" commands"
   ]
  }
 ],
 "metadata": {
  "kernelspec": {
   "display_name": "Python 3",
   "language": "python",
   "name": "python3"
  },
  "language_info": {
   "codemirror_mode": {
    "name": "ipython",
    "version": 3
   },
   "file_extension": ".py",
   "mimetype": "text/x-python",
   "name": "python",
   "nbconvert_exporter": "python",
   "pygments_lexer": "ipython3",
   "version": "3.9.2"
  }
 },
 "nbformat": 4,
 "nbformat_minor": 5
}
