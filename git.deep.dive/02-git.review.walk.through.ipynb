{
 "cells": [
  {
   "cell_type": "markdown",
   "id": "83976bdd-7bd9-446a-9837-f83c3568b864",
   "metadata": {},
   "source": [
    "# Walk through review basic usage"
   ]
  },
  {
   "cell_type": "markdown",
   "id": "39269414-d6fc-4fe2-afb3-83257bf8905c",
   "metadata": {},
   "source": [
    "## Initialize and show current folder"
   ]
  },
  {
   "cell_type": "code",
   "execution_count": null,
   "id": "fdaa29ac-3c4a-433e-8ef4-6653ed4b4040",
   "metadata": {},
   "outputs": [],
   "source": [
    "cd ~/work\n",
    "rm -rf example.repo.02\n",
    "mkdir -p example.repo.02\n",
    "tree example.repo.02\n",
    "cd example.repo.02"
   ]
  },
  {
   "cell_type": "markdown",
   "id": "63934ca6-1f3f-4fe6-adf3-f1243c46e949",
   "metadata": {},
   "source": [
    "<br />\n",
    "<br />\n",
    "<br />\n",
    "<br />\n",
    "<br />"
   ]
  },
  {
   "cell_type": "markdown",
   "id": "d24aedb6-9020-48a0-acab-65db36ee159a",
   "metadata": {},
   "source": [
    "## Initialize the folder to have it be tracked by git"
   ]
  },
  {
   "cell_type": "code",
   "execution_count": null,
   "id": "2b2a6e6c-21d8-4c9d-a6e0-47bc96228f2d",
   "metadata": {},
   "outputs": [],
   "source": [
    "git init"
   ]
  },
  {
   "cell_type": "code",
   "execution_count": null,
   "id": "5925446c-3398-4ac8-8aa1-a252da813d73",
   "metadata": {},
   "outputs": [],
   "source": [
    "git config user.email \"you@example.com\"\n",
    "git config user.name \"Your Name\""
   ]
  },
  {
   "cell_type": "markdown",
   "id": "e8bb372e-6d45-44c5-b8d7-45c29439d6af",
   "metadata": {},
   "source": [
    "<br />\n",
    "<br />\n",
    "<br />\n",
    "<br />\n",
    "<br />\n",
    "\n",
    "## Verify that git has been initialized"
   ]
  },
  {
   "cell_type": "code",
   "execution_count": null,
   "id": "c56886f1-1710-48e5-974e-b09115e60165",
   "metadata": {},
   "outputs": [],
   "source": [
    "git status"
   ]
  },
  {
   "cell_type": "code",
   "execution_count": null,
   "id": "29ee37d8-d863-4e09-ac2a-75f743761c1b",
   "metadata": {},
   "outputs": [],
   "source": [
    "git config --list | grep ^user"
   ]
  },
  {
   "cell_type": "code",
   "execution_count": null,
   "id": "15e25ca8-b110-4bd9-8efc-2eb60e3c206d",
   "metadata": {},
   "outputs": [],
   "source": [
    "ls -lA"
   ]
  },
  {
   "cell_type": "markdown",
   "id": "7c918a81-9788-4db2-961e-39fbf18e0515",
   "metadata": {},
   "source": [
    "<br />\n",
    "<br />\n",
    "<br />\n",
    "<br />\n",
    "<br />"
   ]
  },
  {
   "cell_type": "markdown",
   "id": "2d0c56e4-6243-4aab-97f3-2827048c614d",
   "metadata": {},
   "source": [
    "## What is in the .git folder?\n",
    "\n",
    "We'll find out in a little bit."
   ]
  },
  {
   "cell_type": "markdown",
   "id": "45c71480-8a22-41d2-81d7-1d0f8ce6a613",
   "metadata": {},
   "source": [
    "<br />\n",
    "<br />\n",
    "<br />\n",
    "<br />\n",
    "<br />"
   ]
  },
  {
   "cell_type": "markdown",
   "id": "bd92480f-0726-4b57-9e49-a880c52cd293",
   "metadata": {},
   "source": [
    "## Create a file"
   ]
  },
  {
   "cell_type": "code",
   "execution_count": null,
   "id": "ece73221-6465-4ad7-b586-95f34a882e9f",
   "metadata": {},
   "outputs": [],
   "source": [
    "echo \"Hello, world\" > file.001\n",
    "ls -lA"
   ]
  },
  {
   "cell_type": "code",
   "execution_count": null,
   "id": "a769d8c1-79f1-43d6-a598-b24ff727f232",
   "metadata": {},
   "outputs": [],
   "source": [
    "cat -n file.001"
   ]
  },
  {
   "cell_type": "markdown",
   "id": "8bdafc66-3994-4105-9a6f-1552eb1bf178",
   "metadata": {},
   "source": [
    "<br />\n",
    "<br />\n",
    "<br />\n",
    "<br />\n",
    "<br />"
   ]
  },
  {
   "cell_type": "markdown",
   "id": "15068f09-709a-417d-a8ee-2b40d8e4ca7d",
   "metadata": {},
   "source": [
    "## Add file to the git repository (repo)"
   ]
  },
  {
   "cell_type": "code",
   "execution_count": null,
   "id": "47456ef0-d871-432b-9d06-649aa88a8297",
   "metadata": {},
   "outputs": [],
   "source": [
    "git add file.001\n",
    "git status"
   ]
  },
  {
   "cell_type": "code",
   "execution_count": null,
   "id": "5b84b013-8861-4756-98ea-5a9e8d367569",
   "metadata": {},
   "outputs": [],
   "source": [
    "git commit -m \"file number one\""
   ]
  },
  {
   "cell_type": "code",
   "execution_count": null,
   "id": "328c9eee-8a89-45f4-b528-45e7fda0e126",
   "metadata": {},
   "outputs": [],
   "source": [
    "git status"
   ]
  },
  {
   "cell_type": "code",
   "execution_count": null,
   "id": "1b23bb0a-b7e4-41e2-934b-f77fe5d6b05b",
   "metadata": {},
   "outputs": [],
   "source": [
    "git log"
   ]
  },
  {
   "cell_type": "markdown",
   "id": "55ce5e3a-acb9-4790-939a-75869317d6c7",
   "metadata": {},
   "source": [
    "<br />\n",
    "<br />\n",
    "<br />\n",
    "<br />\n",
    "<br />"
   ]
  },
  {
   "cell_type": "markdown",
   "id": "d8c16fd6-716c-4b43-8d76-1992fe511e47",
   "metadata": {},
   "source": [
    "## What's that random stuff after the commit?\n",
    "We'll find out in a little bit."
   ]
  },
  {
   "cell_type": "markdown",
   "id": "287f808a-cb70-4c6f-aa4e-288c201f004a",
   "metadata": {},
   "source": [
    "<br />\n",
    "<br />\n",
    "<br />\n",
    "<br />\n",
    "<br />"
   ]
  },
  {
   "cell_type": "markdown",
   "id": "f59a995a-da13-4773-81ae-ad497052090c",
   "metadata": {},
   "source": [
    "## Change contents of a tracked file"
   ]
  },
  {
   "cell_type": "code",
   "execution_count": null,
   "id": "647c6455-834a-4e9e-ad97-15d4ac6ede68",
   "metadata": {},
   "outputs": [],
   "source": [
    "echo \"Greetings, earthlings\" > file.001\n",
    "cat -n file.001"
   ]
  },
  {
   "cell_type": "code",
   "execution_count": null,
   "id": "ecc75f85-a03f-49d8-9305-0e36e6a1e574",
   "metadata": {},
   "outputs": [],
   "source": [
    "git status"
   ]
  },
  {
   "cell_type": "code",
   "execution_count": null,
   "id": "ab8ec853-c5d5-49bb-85d7-fbfd910d5bc5",
   "metadata": {},
   "outputs": [],
   "source": [
    "git diff -- file.001"
   ]
  },
  {
   "cell_type": "markdown",
   "id": "91d67af3-8dc2-47c0-b3a1-f1e21dcc73e5",
   "metadata": {},
   "source": [
    "<br />\n",
    "<br />\n",
    "<br />\n",
    "<br />\n",
    "<br />"
   ]
  },
  {
   "cell_type": "markdown",
   "id": "27c590cf-35ac-4c1c-92b9-76b889095e0a",
   "metadata": {},
   "source": [
    "## Commit change to repository"
   ]
  },
  {
   "cell_type": "code",
   "execution_count": null,
   "id": "142538d1-12e0-4f7d-985e-c0005c7c57e1",
   "metadata": {},
   "outputs": [],
   "source": [
    "git commit -am \"changed salutation in file.001\""
   ]
  },
  {
   "cell_type": "code",
   "execution_count": null,
   "id": "9c873dff-e93b-48a6-8619-a36628faa34b",
   "metadata": {},
   "outputs": [],
   "source": [
    "git status"
   ]
  },
  {
   "cell_type": "code",
   "execution_count": null,
   "id": "00fc1848-7441-40b2-8201-d453fb3ae9c2",
   "metadata": {},
   "outputs": [],
   "source": [
    "git log"
   ]
  },
  {
   "cell_type": "markdown",
   "id": "689447f3-ced5-4a89-9a2c-252e9cc1c484",
   "metadata": {},
   "source": [
    "<br />\n",
    "<br />\n",
    "<br />\n",
    "<br />\n",
    "<br />"
   ]
  },
  {
   "cell_type": "markdown",
   "id": "c1711d1e-62bc-445e-858c-00156388d1a8",
   "metadata": {},
   "source": [
    "## Add another file"
   ]
  },
  {
   "cell_type": "code",
   "execution_count": null,
   "id": "918a27c6-d8c8-4a04-810b-9093351ba7c8",
   "metadata": {},
   "outputs": [],
   "source": [
    "echo \"Hello, world ... again\" > file.002\n",
    "ls -lA"
   ]
  },
  {
   "cell_type": "code",
   "execution_count": null,
   "id": "160496fd-70b3-4b6e-a3d8-5ac3677e9272",
   "metadata": {},
   "outputs": [],
   "source": [
    "cat -n file.002"
   ]
  },
  {
   "cell_type": "markdown",
   "id": "1141ca82-d8af-4496-b564-d761fc4a3c93",
   "metadata": {},
   "source": [
    "<br />\n",
    "<br />\n",
    "<br />\n",
    "<br />\n",
    "<br />"
   ]
  },
  {
   "cell_type": "markdown",
   "id": "5f45463d-4671-44bd-b668-35a961149f61",
   "metadata": {},
   "source": [
    "## Commit new file to repository"
   ]
  },
  {
   "cell_type": "code",
   "execution_count": null,
   "id": "b35567de-d3c4-4f35-b2af-584ee0607536",
   "metadata": {},
   "outputs": [],
   "source": [
    "git add file.002\n",
    "git commit -m \"new file file.002\""
   ]
  },
  {
   "cell_type": "code",
   "execution_count": null,
   "id": "89e6faaa-8af0-4ed5-9e9d-1734f8c00597",
   "metadata": {},
   "outputs": [],
   "source": [
    "git log"
   ]
  },
  {
   "cell_type": "code",
   "execution_count": null,
   "id": "7b865145-abf2-4560-9e9b-a31144371071",
   "metadata": {},
   "outputs": [],
   "source": [
    "git ls-files"
   ]
  },
  {
   "cell_type": "markdown",
   "id": "71b3c7da-ffbd-40ae-84ce-3dd26448a231",
   "metadata": {},
   "source": [
    "<br />\n",
    "<br />\n",
    "<br />\n",
    "<br />\n",
    "<br />"
   ]
  },
  {
   "cell_type": "markdown",
   "id": "f4637f9f-4a6a-4349-a066-270a1270fade",
   "metadata": {},
   "source": [
    "## Summary of what happened\n",
    "1. initialized and configured git repo\n",
    "1. created a file\n",
    "1. added and committed the file to the repo\n",
    "1. changed the file\n",
    "1. commited the changed file to the repo\n",
    "1. created a new file\n",
    "1. added and committed the new file to the repo"
   ]
  },
  {
   "cell_type": "markdown",
   "id": "7cd4df08-9622-4671-b277-381e8c8e15eb",
   "metadata": {},
   "source": [
    "## Front-end vs Back-end\n",
    "* front-end commands == \"porcelain\" commands\n",
    "* back-end commands === \"plumbing\" commands <== magic"
   ]
  },
  {
   "cell_type": "markdown",
   "id": "c99a69b6-a095-47fb-8ad3-786128dff205",
   "metadata": {},
   "source": [
    "What we just did with the \"procelain\" commands, we are going to recreate using the \"plumbing\" commands"
   ]
  }
 ],
 "metadata": {
  "kernelspec": {
   "display_name": "Bash",
   "language": "bash",
   "name": "bash"
  },
  "language_info": {
   "codemirror_mode": "shell",
   "file_extension": ".sh",
   "mimetype": "text/x-sh",
   "name": "bash"
  }
 },
 "nbformat": 4,
 "nbformat_minor": 5
}
