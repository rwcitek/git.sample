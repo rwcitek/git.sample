{
 "cells": [
  {
   "cell_type": "code",
   "execution_count": null,
   "id": "bac2ba3d-4c05-4151-bb80-c405729fe715",
   "metadata": {},
   "outputs": [],
   "source": [
    "<<'eof' dot -Tpng | display\n",
    "digraph \"the holy hand grenade\" {\n",
    "    # graph configs\n",
    "    rankdir=LR;\n",
    "    \n",
    "    # nodes\n",
    "    1\n",
    "    2\n",
    "    3\n",
    "    lob\n",
    "    \n",
    "    # edges\n",
    "    1 -> 2\n",
    "    2 -> 3\n",
    "    3 -> lob\n",
    "}\n",
    "eof"
   ]
  },
  {
   "cell_type": "code",
   "execution_count": null,
   "id": "3f278fa5-d3e6-44c1-b909-b611b34404c4",
   "metadata": {},
   "outputs": [],
   "source": [
    "<<'eof' dot -Tpng | display\n",
    "digraph \"the holy hand grenade\" {\n",
    "    # graph configs\n",
    "    rankdir=LR;\n",
    "    \n",
    "    # edges\n",
    "    1 -> 2\n",
    "    2 -> 3\n",
    "    3 -> lob\n",
    "}\n",
    "eof"
   ]
  },
  {
   "cell_type": "code",
   "execution_count": null,
   "id": "388bff32-a4bf-4e82-a878-cbd69ece9409",
   "metadata": {},
   "outputs": [],
   "source": [
    "<<'eof' dot -Tpng | display\n",
    "digraph \"the holy hand grenade\" {\n",
    "    # graph configs\n",
    "    rankdir=RL;\n",
    "    \n",
    "    # edges\n",
    "    1 -> 2 -> 3 -> lob\n",
    "}\n",
    "eof"
   ]
  },
  {
   "cell_type": "code",
   "execution_count": null,
   "id": "b4710100-9e69-4c62-8d78-5ab818a6e689",
   "metadata": {},
   "outputs": [],
   "source": [
    "<<'eof' dot -Tpng | display\n",
    "digraph \"the holy hand grenade\" {\n",
    "    # graph configs\n",
    "    rankdir=RL;\n",
    "    \n",
    "    # edges\n",
    "    lob -> 3 -> 2 -> 1\n",
    "}\n",
    "eof"
   ]
  },
  {
   "cell_type": "code",
   "execution_count": null,
   "id": "47a8c02b-70cb-49ab-b9ed-969e114d47a6",
   "metadata": {},
   "outputs": [],
   "source": []
  }
 ],
 "metadata": {
  "kernelspec": {
   "display_name": "Bash",
   "language": "bash",
   "name": "bash"
  },
  "language_info": {
   "codemirror_mode": "shell",
   "file_extension": ".sh",
   "mimetype": "text/x-sh",
   "name": "bash"
  }
 },
 "nbformat": 4,
 "nbformat_minor": 5
}
