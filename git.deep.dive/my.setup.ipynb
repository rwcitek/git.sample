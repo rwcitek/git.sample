{
 "cells": [
  {
   "cell_type": "markdown",
   "id": "4c3cd2f4-425c-4fb7-9d27-a902c39324ce",
   "metadata": {},
   "source": [
    "# My setup"
   ]
  },
  {
   "cell_type": "markdown",
   "id": "6867d4f0-51ed-4358-b3f7-7265c2ca5f73",
   "metadata": {},
   "source": [
    "I am running docker container on an AWS instance and ssh tunneling into the instance to forward the Jupyter notebook."
   ]
  },
  {
   "cell_type": "raw",
   "id": "b0d953bd-be76-46c5-a269-d6dbccdd33c6",
   "metadata": {},
   "source": [
    "%%bash\n",
    "mkdir -p ~/git.part-2/\n",
    "cd ~/git.part-2/ ; docker \\\n",
    "    run \\\n",
    "    --rm \\\n",
    "    -p 80:8888 \\\n",
    "    -e JUPYTER_ENABLE_LAB=yes \\\n",
    "    -v \"${PWD}\":/home/jovyan/work \\\n",
    "    --name jupyter-lab \\\n",
    "    jupyter/datascience-notebook \\\n",
    "    >& /tmp/docker.log &\n"
   ]
  },
  {
   "cell_type": "raw",
   "id": "424f14b6-da3b-4851-a41f-7b6a45427cd2",
   "metadata": {},
   "source": [
    "%%bash\n",
    "# create aliases file\n",
    "cat <<'eof' > aliases.rc\n",
    "{\n",
    "  alias cls='clear';\n",
    "  alias dir='ls -la';\n",
    "  alias h='history';\n",
    "  alias more='less -iX';\n",
    "  export HISTCONTROL=ignoredups:ignorespace;\n",
    "  export HISTFILESIZE=50000;\n",
    "  export HISTSIZE=50000;\n",
    "  export HISTTIMEFORMAT='%t%F %T%t';\n",
    "  export PAGER='less -iX ';\n",
    "  export IGNOREEOF=20;\n",
    "  export PS1='\\u@\\h: \\w\\n\\$ ';\n",
    "}\n",
    "eof\n"
   ]
  },
  {
   "cell_type": "raw",
   "id": "c0c4df19-eac4-4d41-acd0-f3d9573985e7",
   "metadata": {},
   "source": [
    "%%bash\n",
    "# customize instance\n",
    "## install packages\n",
    "{ cat <<eof\n",
    "apt-get update\n",
    "apt-get install -y ruby tree less file rsync\n",
    "\n",
    "eof\n",
    "} | docker exec -i -u root jupyter-lab /bin/bash\n",
    "\n",
    "## create aliases\n",
    "cat aliases.rc |\n",
    "docker exec -i jupyter-lab /bin/bash -c 'cat > ~/.bash_aliases'"
   ]
  },
  {
   "cell_type": "raw",
   "id": "030c928a-f4ca-4152-a2ba-4ee1d6c07331",
   "metadata": {},
   "source": [
    "%%bash\n",
    "# interactive\n",
    "docker exec -it jupyter-lab /bin/bash\n",
    "docker exec -it -u root jupyter-lab /bin/bash"
   ]
  },
  {
   "cell_type": "raw",
   "id": "7b829ba4-c6d5-4f76-b274-84513c383018",
   "metadata": {},
   "source": [
    "%%bash\n",
    "# get the token\n",
    "token=$( grep -m1 token= /tmp/docker.log | cut -d= -f2 )\n",
    "echo http://localhost:8080/lab?token=${token}\n"
   ]
  },
  {
   "cell_type": "raw",
   "id": "a0cb6a0b-8dca-4be5-9054-102cf0c0f06d",
   "metadata": {},
   "source": [
    "%%bash\n",
    "ip={ public IP from AWS }\n",
    "ssh \\\n",
    "    -i ~/.ssh/aws2021.pem \\\n",
    "    -o StrictHostKeyChecking=no \\\n",
    "    -o UserKnownHostsFile=/dev/null \\\n",
    "    -o GSSAPIAuthentication=no \\\n",
    "    -p 22 \\\n",
    "    -L 8080:localhost:80 \\\n",
    "    ubuntu@${ip}\n"
   ]
  },
  {
   "cell_type": "code",
   "execution_count": null,
   "id": "d2118951-b289-4dc6-9697-03bdb1d53499",
   "metadata": {},
   "outputs": [],
   "source": []
  }
 ],
 "metadata": {
  "kernelspec": {
   "display_name": "Python 3",
   "language": "python",
   "name": "python3"
  },
  "language_info": {
   "codemirror_mode": {
    "name": "ipython",
    "version": 3
   },
   "file_extension": ".py",
   "mimetype": "text/x-python",
   "name": "python",
   "nbconvert_exporter": "python",
   "pygments_lexer": "ipython3",
   "version": "3.9.2"
  }
 },
 "nbformat": 4,
 "nbformat_minor": 5
}
