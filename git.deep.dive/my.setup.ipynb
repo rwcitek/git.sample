{
 "cells": [
  {
   "cell_type": "markdown",
   "id": "6f02dabd",
   "metadata": {},
   "source": [
    "# My setup"
   ]
  },
  {
   "cell_type": "markdown",
   "id": "ed448caf",
   "metadata": {},
   "source": [
    "I am running docker container on an AWS EC2 instance then ssh'ing into the instance and tunneling port 5150 to forward the Jupyter Lab connection.\n",
    "\n",
    "---"
   ]
  },
  {
   "cell_type": "markdown",
   "id": "5b4f30cc",
   "metadata": {},
   "source": [
    "```bash\n",
    "# ssh to AWS EC2 instance\n",
    "ip={ public IP from AWS }\n",
    "ssh \\\n",
    "    -i ~/.ssh/aws2021.pem \\\n",
    "    -p 22 \\\n",
    "    -L localhost:8080:localhost:5150 \\\n",
    "    ubuntu@${ip}\n",
    "```\n",
    "\n",
    "---"
   ]
  },
  {
   "cell_type": "markdown",
   "id": "3dff5f6c",
   "metadata": {},
   "source": [
    "```bash\n",
    "# Launch container instance\n",
    "mkdir -p ~/git.part-2/\n",
    "cd ~/git.part-2/\n",
    "docker \\\n",
    "    run \\\n",
    "    --rm \\\n",
    "    -p localhost:5150:8888 \\\n",
    "    -e JUPYTER_ENABLE_LAB=yes \\\n",
    "    -v \"${PWD}\":/home/jovyan/work \\\n",
    "    --name jupyter-lab \\\n",
    "    jupyter/datascience-notebook:396024a4ddc1 \\\n",
    "    >& /tmp/docker.log &\n",
    "```\n",
    "\n",
    "---"
   ]
  },
  {
   "cell_type": "markdown",
   "id": "a7c0bac1",
   "metadata": {},
   "source": [
    "```bash\n",
    "# Customize instance; could be turned into a Dockerfile in the future\n",
    "## install packages\n",
    "{ cat <<eof\n",
    "apt-get update\n",
    "apt-get install -y ruby tree less file rsync pandoc\n",
    "pip install bash_kernel\n",
    "python -m bash_kernel.install\n",
    "\n",
    "eof\n",
    "} | docker exec -i -u root jupyter-lab /bin/bash\n",
    "\n",
    "## create aliases file\n",
    "{ cat <<'eof'\n",
    "{\n",
    "  alias cls='clear';\n",
    "  alias dir='ls -la';\n",
    "  alias h='history';\n",
    "  alias more='less -iX';\n",
    "  export HISTCONTROL=ignoredups:ignorespace;\n",
    "  export HISTFILESIZE=50000;\n",
    "  export HISTSIZE=50000;\n",
    "  export HISTTIMEFORMAT='%t%F %T%t';\n",
    "  export PAGER='less -iX ';\n",
    "  export IGNOREEOF=20;\n",
    "  export PS1='\\u@\\h: \\w\\n\\$ ';\n",
    "}\n",
    "eof\n",
    "} |\n",
    "docker exec -i jupyter-lab /bin/bash -c 'cat > ~/.bash_aliases'\n",
    "```\n",
    "\n",
    "---"
   ]
  },
  {
   "cell_type": "markdown",
   "id": "a328a71a",
   "metadata": {},
   "source": [
    "```bash\n",
    "# Get the token\n",
    "token=$( grep -m1 token= /tmp/docker.log | cut -d= -f2 )\n",
    "echo http://localhost:8080/lab?token=${token}\n",
    "```\n",
    "\n",
    "---"
   ]
  },
  {
   "cell_type": "markdown",
   "id": "1ea42015",
   "metadata": {},
   "source": [
    "```bash\n",
    "# Commands for connecting to instance for interactive session, if needed\n",
    "## as a regular user\n",
    "docker exec -it jupyter-lab /bin/bash\n",
    "## as root\n",
    "docker exec -it -u root jupyter-lab /bin/bash\n",
    "```\n",
    "\n",
    "---"
   ]
  },
  {
   "cell_type": "markdown",
   "id": "8b5f8db0-5e08-4b02-9fe0-c1fa5132e4d3",
   "metadata": {},
   "source": [
    "```bash\n",
    "# Clear all outputs from notebooks and convert to HTML with output\n",
    "rm -rf html\n",
    "mkdir -p html\n",
    "for nb in *.ipynb ; do\n",
    "    jupyter nbconvert --to notebook --clear-output --inplace ${nb}\n",
    "    jupyter nbconvert --to html --execute --output html/${nb%.ipynb} ${nb}\n",
    "done\n",
    "```\n",
    "\n",
    "---"
   ]
  }
 ],
 "metadata": {
  "kernelspec": {
   "display_name": "Bash",
   "language": "bash",
   "name": "bash"
  },
  "language_info": {
   "codemirror_mode": "shell",
   "file_extension": ".sh",
   "mimetype": "text/x-sh",
   "name": "bash"
  }
 },
 "nbformat": 4,
 "nbformat_minor": 5
}
