{
 "cells": [
  {
   "cell_type": "markdown",
   "id": "011fb7f6-e130-44b4-8ae2-400285aa1fd5",
   "metadata": {},
   "source": [
    "# Git Summary"
   ]
  },
  {
   "cell_type": "markdown",
   "id": "b56d1de9-f3cd-4430-8724-5bcf7bd94bcb",
   "metadata": {},
   "source": [
    "## Simple in design\n",
    "Uses existing tools on a standard Unix-like system\n",
    "* the filesystem as a KV store\n",
    "* sha-1 checksums\n",
    "* zlib for compression/decompression\n",
    "\n",
    "Uses simple abstractions\n",
    "* key-value store\n",
    "* hash functions\n",
    "* graph"
   ]
  },
  {
   "cell_type": "markdown",
   "id": "6413e08d-53bb-47b0-bf9b-f30bb47e7b03",
   "metadata": {},
   "source": [
    "## Objects\n",
    "* blobs\n",
    "* trees\n",
    "* commits\n",
    "* references"
   ]
  },
  {
   "cell_type": "markdown",
   "id": "a892e97a-58ae-4cc6-9b13-96d408162f26",
   "metadata": {},
   "source": [
    "# Next steps"
   ]
  },
  {
   "cell_type": "markdown",
   "id": "3c9bed9b-00f4-467a-a2f1-4bf0d275ae3d",
   "metadata": {},
   "source": [
    "## Middle sections of ProGit book\n",
    "* branches and merges\n",
    "* git server\n",
    "* git services: GitHub, gitlab\n",
    "* customizing: hooks, editor integration"
   ]
  },
  {
   "cell_type": "markdown",
   "id": "dba50478-cd96-44f8-b788-2a446b8b6774",
   "metadata": {},
   "source": [
    "## A local \"remote\" git repo"
   ]
  },
  {
   "cell_type": "code",
   "execution_count": 1,
   "id": "8dfbf56f-d498-4545-a86d-5e6a9a295877",
   "metadata": {},
   "outputs": [
    {
     "name": "stdout",
     "output_type": "stream",
     "text": [
      "sending incremental file list\n",
      ".git/\n",
      ".git/HEAD\n",
      ".git/index\n",
      ".git/objects/\n",
      ".git/objects/00/\n",
      ".git/objects/00/04ce68762c5ae78861d34b4705798dfc3da5ca\n",
      ".git/objects/34/\n",
      ".git/objects/34/a27f74d7d73cd456ce426bfa20bffcfb8fd11c\n",
      ".git/objects/46/\n",
      ".git/objects/46/a50c039ab4022bd7e55f3dfaf22a2aa031d77a\n",
      ".git/objects/55/\n",
      ".git/objects/55/fa54b59bcde4aa07307798e629e705269fce66\n",
      ".git/objects/67/\n",
      ".git/objects/67/4c9e8cd4b5080d2515fcec22e33b4ba20406c5\n",
      ".git/objects/7f/\n",
      ".git/objects/7f/1ba4b839316dc6e92966a7ee62ed91bc276160\n",
      ".git/objects/8b/\n",
      ".git/objects/8b/603cd1eaa4e59a18322da29a62200d1605b2dd\n",
      ".git/objects/a1/\n",
      ".git/objects/a1/3eb9d02b9ee2c2f0d073bbc65d91a18c7e7316\n",
      ".git/objects/a5/\n",
      ".git/objects/a5/c19667710254f835085b99726e523457150e03\n",
      ".git/objects/e1/\n",
      ".git/objects/e1/df30a01c2ae55e964a8f9171bc19289caa3265\n",
      ".git/objects/info/\n",
      ".git/objects/pack/\n",
      ".git/refs/\n",
      ".git/refs/heads/\n",
      ".git/refs/heads/master\n",
      ".git/refs/heads/test\n",
      ".git/refs/tags/\n",
      ".git/refs/tags/v1.0\n",
      ".git/refs/tags/v1.1\n",
      "\n",
      "sent 3,117 bytes  received 396 bytes  7,026.00 bytes/sec\n",
      "total size is 1,203  speedup is 0.34\n"
     ]
    }
   ],
   "source": [
    "cd ~/work\n",
    "rm -rf repo/ git.using.remote/\n",
    "mkdir -p repo/ git.using.remote/\n",
    "rsync -vaR example.repo.05/./.git/{HEAD,index,objects,refs} repo/"
   ]
  },
  {
   "cell_type": "code",
   "execution_count": 2,
   "id": "58f84ad8-ee7c-4c8d-86b4-cb93168ec8f5",
   "metadata": {},
   "outputs": [
    {
     "name": "stdout",
     "output_type": "stream",
     "text": [
      "repo\n",
      "└── .git\n",
      "    ├── HEAD\n",
      "    ├── index\n",
      "    ├── objects\n",
      "    │   ├── 00\n",
      "    │   │   └── 04ce68762c5ae78861d34b4705798dfc3da5ca\n",
      "    │   ├── 34\n",
      "    │   │   └── a27f74d7d73cd456ce426bfa20bffcfb8fd11c\n",
      "    │   ├── 46\n",
      "    │   │   └── a50c039ab4022bd7e55f3dfaf22a2aa031d77a\n",
      "    │   ├── 55\n",
      "    │   │   └── fa54b59bcde4aa07307798e629e705269fce66\n",
      "    │   ├── 67\n",
      "    │   │   └── 4c9e8cd4b5080d2515fcec22e33b4ba20406c5\n",
      "    │   ├── 7f\n",
      "    │   │   └── 1ba4b839316dc6e92966a7ee62ed91bc276160\n",
      "    │   ├── 8b\n",
      "    │   │   └── 603cd1eaa4e59a18322da29a62200d1605b2dd\n",
      "    │   ├── a1\n",
      "    │   │   └── 3eb9d02b9ee2c2f0d073bbc65d91a18c7e7316\n",
      "    │   ├── a5\n",
      "    │   │   └── c19667710254f835085b99726e523457150e03\n",
      "    │   ├── e1\n",
      "    │   │   └── df30a01c2ae55e964a8f9171bc19289caa3265\n",
      "    │   ├── info\n",
      "    │   └── pack\n",
      "    └── refs\n",
      "        ├── heads\n",
      "        │   ├── master\n",
      "        │   └── test\n",
      "        └── tags\n",
      "            ├── v1.0\n",
      "            └── v1.1\n",
      "\n",
      "17 directories, 16 files\n"
     ]
    }
   ],
   "source": [
    "tree -a repo"
   ]
  },
  {
   "cell_type": "code",
   "execution_count": 3,
   "id": "2ca3d6a0-11e9-4ac5-b8c0-66be7e3d00f4",
   "metadata": {},
   "outputs": [
    {
     "name": "stdout",
     "output_type": "stream",
     "text": [
      "Cloning into '.'...\n",
      "done.\n"
     ]
    }
   ],
   "source": [
    "# clone repo\n",
    "cd git.using.remote\n",
    "git clone ../repo/ ."
   ]
  },
  {
   "cell_type": "code",
   "execution_count": 4,
   "id": "3363c807-7200-4890-8292-d894bacf889d",
   "metadata": {},
   "outputs": [],
   "source": [
    "# configure\n",
    "git config user.email \"you@example.com\"\n",
    "git config user.name \"Your Name\""
   ]
  },
  {
   "cell_type": "code",
   "execution_count": 5,
   "id": "780347d9-387d-4da0-a4ce-460950165553",
   "metadata": {},
   "outputs": [
    {
     "name": "stdout",
     "output_type": "stream",
     "text": [
      "On branch master\n",
      "Your branch is up to date with 'origin/master'.\n",
      "\n",
      "nothing to commit, working tree clean\n"
     ]
    }
   ],
   "source": [
    "git status"
   ]
  },
  {
   "cell_type": "code",
   "execution_count": 6,
   "id": "4fb05540-83a8-4883-83fa-364fc43f6af8",
   "metadata": {},
   "outputs": [
    {
     "name": "stdout",
     "output_type": "stream",
     "text": [
      "commit 46a50c039ab4022bd7e55f3dfaf22a2aa031d77a (HEAD -> master, origin/master, origin/HEAD)\n",
      "Author: Your Name <you@example.com>\n",
      "Date:   Mon Jun 14 18:15:10 2021 +0000\n",
      "\n",
      "    new file file.002\n",
      "\n",
      "commit 674c9e8cd4b5080d2515fcec22e33b4ba20406c5 (tag: v1.1, origin/test)\n",
      "Author: Your Name <you@example.com>\n",
      "Date:   Mon Jun 14 18:15:10 2021 +0000\n",
      "\n",
      "    changed salutation in file.001\n",
      "\n",
      "commit 55fa54b59bcde4aa07307798e629e705269fce66 (tag: v1.0)\n",
      "Author: Your Name <you@example.com>\n",
      "Date:   Mon Jun 14 18:15:09 2021 +0000\n",
      "\n",
      "    file number one\n"
     ]
    }
   ],
   "source": [
    "git log"
   ]
  },
  {
   "cell_type": "code",
   "execution_count": 7,
   "id": "f948f1b2-9e29-4771-a3a7-de4df76e1243",
   "metadata": {},
   "outputs": [
    {
     "name": "stdout",
     "output_type": "stream",
     "text": [
      "[master 667a167] a third file\n",
      " 1 file changed, 1 insertion(+)\n",
      " create mode 100644 file.003\n",
      "commit 667a16796cb1b327c74414984641e1a7aa3d6c98 (HEAD -> master)\n",
      "Author: Your Name <you@example.com>\n",
      "Date:   Mon Jun 14 18:16:21 2021 +0000\n",
      "\n",
      "    a third file\n",
      "\n",
      "commit 46a50c039ab4022bd7e55f3dfaf22a2aa031d77a (origin/master, origin/HEAD)\n",
      "Author: Your Name <you@example.com>\n",
      "Date:   Mon Jun 14 18:15:10 2021 +0000\n",
      "\n",
      "    new file file.002\n",
      "\n",
      "commit 674c9e8cd4b5080d2515fcec22e33b4ba20406c5 (tag: v1.1, origin/test)\n",
      "Author: Your Name <you@example.com>\n",
      "Date:   Mon Jun 14 18:15:10 2021 +0000\n",
      "\n",
      "    changed salutation in file.001\n",
      "\n",
      "commit 55fa54b59bcde4aa07307798e629e705269fce66 (tag: v1.0)\n",
      "Author: Your Name <you@example.com>\n",
      "Date:   Mon Jun 14 18:15:09 2021 +0000\n",
      "\n",
      "    file number one\n"
     ]
    }
   ],
   "source": [
    "# Push to \"remote\" local repo\n",
    "echo \"hello again\" > file.003\n",
    "git add file.003\n",
    "git commit -m \"a third file\"\n",
    "git log"
   ]
  },
  {
   "cell_type": "code",
   "execution_count": 8,
   "id": "9c79cdd7-b5aa-40b0-b070-94158fa68215",
   "metadata": {},
   "outputs": [
    {
     "name": "stdout",
     "output_type": "stream",
     "text": [
      "Enumerating objects: 4, done.\n",
      "Counting objects: 100% (4/4), done.\n",
      "Compressing objects: 100% (2/2), done.\n",
      "Writing objects: 100% (3/3), 301 bytes | 50.00 KiB/s, done.\n",
      "Total 3 (delta 0), reused 0 (delta 0)\n",
      "To /home/jovyan/work/git.using.remote/../repo/\n",
      "   46a50c0..667a167  master -> master\n"
     ]
    }
   ],
   "source": [
    "git push"
   ]
  },
  {
   "cell_type": "code",
   "execution_count": 9,
   "id": "25238826-2731-4a2c-8d37-7a3eaa46f9d3",
   "metadata": {},
   "outputs": [
    {
     "name": "stdout",
     "output_type": "stream",
     "text": [
      ".git/\n",
      "├── HEAD\n",
      "├── index\n",
      "├── objects\n",
      "│   ├── 00\n",
      "│   │   └── 04ce68762c5ae78861d34b4705798dfc3da5ca\n",
      "│   ├── 13\n",
      "│   │   └── ab7f7412573d479aa8b41ce1e29a9f9f2a62d5\n",
      "│   ├── 34\n",
      "│   │   └── a27f74d7d73cd456ce426bfa20bffcfb8fd11c\n",
      "│   ├── 46\n",
      "│   │   └── a50c039ab4022bd7e55f3dfaf22a2aa031d77a\n",
      "│   ├── 55\n",
      "│   │   └── fa54b59bcde4aa07307798e629e705269fce66\n",
      "│   ├── 66\n",
      "│   │   └── 7a16796cb1b327c74414984641e1a7aa3d6c98\n",
      "│   ├── 67\n",
      "│   │   └── 4c9e8cd4b5080d2515fcec22e33b4ba20406c5\n",
      "│   ├── 7f\n",
      "│   │   └── 1ba4b839316dc6e92966a7ee62ed91bc276160\n",
      "│   ├── 8b\n",
      "│   │   └── 603cd1eaa4e59a18322da29a62200d1605b2dd\n",
      "│   ├── a1\n",
      "│   │   └── 3eb9d02b9ee2c2f0d073bbc65d91a18c7e7316\n",
      "│   ├── a5\n",
      "│   │   └── c19667710254f835085b99726e523457150e03\n",
      "│   ├── cf\n",
      "│   │   └── ee20bfc1ce1783842a89729e9c01e30ff5207a\n",
      "│   ├── e1\n",
      "│   │   └── df30a01c2ae55e964a8f9171bc19289caa3265\n",
      "│   ├── info\n",
      "│   └── pack\n",
      "└── refs\n",
      "    ├── heads\n",
      "    │   ├── master\n",
      "    │   └── test\n",
      "    └── tags\n",
      "        ├── v1.0\n",
      "        └── v1.1\n",
      "\n",
      "19 directories, 19 files\n"
     ]
    }
   ],
   "source": [
    "# Display objects in \"remote\" local repo\n",
    "cd ~/work/repo\n",
    "tree .git/"
   ]
  }
 ],
 "metadata": {
  "kernelspec": {
   "display_name": "Bash",
   "language": "bash",
   "name": "bash"
  },
  "language_info": {
   "codemirror_mode": "shell",
   "file_extension": ".sh",
   "mimetype": "text/x-sh",
   "name": "bash"
  }
 },
 "nbformat": 4,
 "nbformat_minor": 5
}
