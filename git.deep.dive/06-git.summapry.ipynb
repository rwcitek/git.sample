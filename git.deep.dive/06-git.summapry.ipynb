{
 "cells": [
  {
   "cell_type": "markdown",
   "id": "011fb7f6-e130-44b4-8ae2-400285aa1fd5",
   "metadata": {},
   "source": [
    "# Git Summary"
   ]
  },
  {
   "cell_type": "markdown",
   "id": "b56d1de9-f3cd-4430-8724-5bcf7bd94bcb",
   "metadata": {},
   "source": [
    "## Simple in design\n",
    "Uses existing tools on a standard Unix-like system\n",
    "* the filesystem as a KV store\n",
    "* sha-1 checksums\n",
    "* zlib for compression/decompression\n",
    "\n",
    "Uses simple abstractions\n",
    "* key-value store\n",
    "* hash functions\n",
    "* graph"
   ]
  },
  {
   "cell_type": "markdown",
   "id": "6413e08d-53bb-47b0-bf9b-f30bb47e7b03",
   "metadata": {},
   "source": [
    "## Objects\n",
    "* blobs\n",
    "* trees\n",
    "* commits\n",
    "* references"
   ]
  },
  {
   "cell_type": "markdown",
   "id": "a892e97a-58ae-4cc6-9b13-96d408162f26",
   "metadata": {},
   "source": [
    "# Next steps"
   ]
  },
  {
   "cell_type": "markdown",
   "id": "3c9bed9b-00f4-467a-a2f1-4bf0d275ae3d",
   "metadata": {},
   "source": [
    "## Middle sections of ProGit book\n",
    "* branches and merges\n",
    "* git server\n",
    "* git services: GitHub, gitlab\n",
    "* customizing: hooks, editor integration"
   ]
  },
  {
   "cell_type": "markdown",
   "id": "dba50478-cd96-44f8-b788-2a446b8b6774",
   "metadata": {},
   "source": [
    "## A local \"remote\" git repo"
   ]
  },
  {
   "cell_type": "code",
   "execution_count": null,
   "id": "8dfbf56f-d498-4545-a86d-5e6a9a295877",
   "metadata": {},
   "outputs": [],
   "source": [
    "%%bash\n",
    "rm -rf repo/ git.using.remote/\n",
    "mkdir -p repo/ git.using.remote/\n",
    "rsync -vaR ././.git/{HEAD,index,objects,refs} repo/\n"
   ]
  },
  {
   "cell_type": "code",
   "execution_count": null,
   "id": "58f84ad8-ee7c-4c8d-86b4-cb93168ec8f5",
   "metadata": {},
   "outputs": [],
   "source": [
    "!tree -a repo"
   ]
  },
  {
   "cell_type": "code",
   "execution_count": null,
   "id": "01092841-bd37-46a7-bc49-7b686b235586",
   "metadata": {},
   "outputs": [],
   "source": [
    "%%bash\n",
    "# clone repo\n",
    "cd git.using.remote\n",
    "git clone ../repo/ ."
   ]
  },
  {
   "cell_type": "code",
   "execution_count": null,
   "id": "85faaf78-3d7c-4a33-8891-e453d71e33bc",
   "metadata": {},
   "outputs": [],
   "source": [
    "%%bash\n",
    "# clone repo\n",
    "cd git.using.remote\n",
    "git status\n",
    "git log"
   ]
  },
  {
   "cell_type": "code",
   "execution_count": null,
   "id": "a1abf68b-10ef-421a-9737-b20f48d2a948",
   "metadata": {},
   "outputs": [],
   "source": [
    "%%bash\n",
    "# clone repo\n",
    "cd git.using.remote\n",
    "echo \"hello again\" > file.003\n",
    "git add file.003\n",
    "git commit -m \"a third file\"\n",
    "git push"
   ]
  }
 ],
 "metadata": {
  "kernelspec": {
   "display_name": "Python 3",
   "language": "python",
   "name": "python3"
  },
  "language_info": {
   "codemirror_mode": {
    "name": "ipython",
    "version": 3
   },
   "file_extension": ".py",
   "mimetype": "text/x-python",
   "name": "python",
   "nbconvert_exporter": "python",
   "pygments_lexer": "ipython3",
   "version": "3.9.2"
  }
 },
 "nbformat": 4,
 "nbformat_minor": 5
}
