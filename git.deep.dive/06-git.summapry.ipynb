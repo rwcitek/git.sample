{
 "cells": [
  {
   "cell_type": "markdown",
   "id": "011fb7f6-e130-44b4-8ae2-400285aa1fd5",
   "metadata": {},
   "source": [
    "# Git Summary"
   ]
  },
  {
   "cell_type": "markdown",
   "id": "b56d1de9-f3cd-4430-8724-5bcf7bd94bcb",
   "metadata": {},
   "source": [
    "## Simple in design\n",
    "Uses existing tools on a standard Unix-like system\n",
    "* the filesystem as a KV store\n",
    "* sha-1 checksums\n",
    "* zlib for compression/decompression\n",
    "\n",
    "Uses simple abstractions\n",
    "* key-value store\n",
    "* hash functions\n",
    "* graph"
   ]
  },
  {
   "cell_type": "markdown",
   "id": "6413e08d-53bb-47b0-bf9b-f30bb47e7b03",
   "metadata": {},
   "source": [
    "## Objects\n",
    "* blobs\n",
    "* trees\n",
    "* commits\n",
    "* references"
   ]
  },
  {
   "cell_type": "markdown",
   "id": "a892e97a-58ae-4cc6-9b13-96d408162f26",
   "metadata": {},
   "source": [
    "# Next steps"
   ]
  },
  {
   "cell_type": "markdown",
   "id": "3c9bed9b-00f4-467a-a2f1-4bf0d275ae3d",
   "metadata": {},
   "source": [
    "## Middle sections of ProGit book\n",
    "* branches and merges\n",
    "* git server\n",
    "* git services: GitHub, gitlab\n",
    "* customizing: hooks, editor integration"
   ]
  },
  {
   "cell_type": "markdown",
   "id": "dba50478-cd96-44f8-b788-2a446b8b6774",
   "metadata": {},
   "source": [
    "## A local \"remote\" git repo"
   ]
  },
  {
   "cell_type": "code",
   "execution_count": null,
   "id": "8dfbf56f-d498-4545-a86d-5e6a9a295877",
   "metadata": {},
   "outputs": [],
   "source": [
    "cd ~/work\n",
    "rm -rf repo/ git.using.remote/\n",
    "mkdir -p repo/ git.using.remote/\n",
    "rsync -vaR example.repo.05/./.git/{HEAD,index,objects,refs} repo/"
   ]
  },
  {
   "cell_type": "code",
   "execution_count": null,
   "id": "58f84ad8-ee7c-4c8d-86b4-cb93168ec8f5",
   "metadata": {},
   "outputs": [],
   "source": [
    "tree -a repo"
   ]
  },
  {
   "cell_type": "code",
   "execution_count": null,
   "id": "2ca3d6a0-11e9-4ac5-b8c0-66be7e3d00f4",
   "metadata": {},
   "outputs": [],
   "source": [
    "# clone repo\n",
    "cd git.using.remote\n",
    "git clone ../repo/ ."
   ]
  },
  {
   "cell_type": "code",
   "execution_count": null,
   "id": "3363c807-7200-4890-8292-d894bacf889d",
   "metadata": {},
   "outputs": [],
   "source": [
    "# configure\n",
    "git config user.email \"you@example.com\"\n",
    "git config user.name \"Your Name\""
   ]
  },
  {
   "cell_type": "code",
   "execution_count": null,
   "id": "780347d9-387d-4da0-a4ce-460950165553",
   "metadata": {},
   "outputs": [],
   "source": [
    "git status"
   ]
  },
  {
   "cell_type": "code",
   "execution_count": null,
   "id": "4fb05540-83a8-4883-83fa-364fc43f6af8",
   "metadata": {},
   "outputs": [],
   "source": [
    "git log"
   ]
  },
  {
   "cell_type": "code",
   "execution_count": null,
   "id": "f948f1b2-9e29-4771-a3a7-de4df76e1243",
   "metadata": {},
   "outputs": [],
   "source": [
    "# Push to \"remote\" local repo\n",
    "echo \"hello again\" > file.003\n",
    "git add file.003\n",
    "git commit -m \"a third file\"\n",
    "git log"
   ]
  },
  {
   "cell_type": "code",
   "execution_count": null,
   "id": "9c79cdd7-b5aa-40b0-b070-94158fa68215",
   "metadata": {},
   "outputs": [],
   "source": [
    "git push"
   ]
  },
  {
   "cell_type": "code",
   "execution_count": null,
   "id": "25238826-2731-4a2c-8d37-7a3eaa46f9d3",
   "metadata": {},
   "outputs": [],
   "source": [
    "# Display objects in \"remote\" local repo\n",
    "cd ~/work/repo\n",
    "tree .git/"
   ]
  }
 ],
 "metadata": {
  "kernelspec": {
   "display_name": "Bash",
   "language": "bash",
   "name": "bash"
  },
  "language_info": {
   "codemirror_mode": "shell",
   "file_extension": ".sh",
   "mimetype": "text/x-sh",
   "name": "bash"
  }
 },
 "nbformat": 4,
 "nbformat_minor": 5
}
