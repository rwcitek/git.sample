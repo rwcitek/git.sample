{
 "cells": [
  {
   "cell_type": "markdown",
   "id": "a9ef6307-2e9f-49f2-916f-18b233a6b666",
   "metadata": {},
   "source": [
    "# The .git folder"
   ]
  },
  {
   "cell_type": "markdown",
   "id": "3f2778c0-02b0-43d6-ae2d-8baf655e8ec8",
   "metadata": {},
   "source": [
    "What's in it?\n",
    "Let's do the walk through again and explore."
   ]
  },
  {
   "cell_type": "markdown",
   "id": "9adb2d5a-ff11-4c83-bf99-2917ce3d0d30",
   "metadata": {},
   "source": [
    "## Initialize and show current folder"
   ]
  },
  {
   "cell_type": "code",
   "execution_count": 1,
   "id": "7d5e0b4b-63dc-4447-90cb-eb8d017b34d4",
   "metadata": {},
   "outputs": [
    {
     "name": "stdout",
     "output_type": "stream",
     "text": [
      "total 112\n",
      "-rw-rw-r-- 1 jovyan  1000   311 Jun 10 00:28 aliases.rc\n",
      "drwxr-xr-x 2 jovyan users  4096 Jun  9 18:36 confusion\n",
      "-rw-r--r-- 1 jovyan users  9158 Jun  9 23:29 git.abstractions.ipynb\n",
      "-rw-rw-r-- 1 jovyan  1000    60 Jun  9 20:56 .gitignore\n",
      "-rw-r--r-- 1 jovyan users 25631 Jun  9 23:27 git.plumbing.ipynb\n",
      "-rw-r--r-- 1 jovyan users  1484 Jun  9 23:43 git.references.ipynb\n",
      "-rw-r--r-- 1 jovyan users  5302 Jun  9 23:29 git.repository.ipynb\n",
      "-rw-r--r-- 1 jovyan users  1255 Jun 10 00:07 git.review.overview.ipynb\n",
      "-rw-r--r-- 1 jovyan users 20280 Jun 10 00:53 git.review.walk.through.ipynb\n",
      "drwxr-xr-x 3 jovyan users  4096 Jun 10 00:24 git.using.remote\n",
      "drwxr-xr-x 2 jovyan users  4096 Jun 10 00:26 .ipynb_checkpoints\n",
      "-rw-r--r-- 1 jovyan users  3609 Jun 10 00:34 my.setup.ipynb\n",
      "drwxr-xr-x 3 jovyan users  4096 Jun 10 00:24 repo\n",
      "-rw-r--r-- 1 jovyan users  3252 Jun 10 00:25 Summary.ipynb\n",
      "-rw-r--r-- 1 jovyan users  2281 Jun  9 21:19 Untitled.ipynb\n"
     ]
    }
   ],
   "source": [
    "%%bash\n",
    "rm -rf ./.git file.*\n",
    "ls -lA"
   ]
  },
  {
   "cell_type": "markdown",
   "id": "1dceeaf9-7396-4052-87fe-013e0f6c9a85",
   "metadata": {},
   "source": [
    "<br />\n",
    "<br />\n",
    "<br />\n",
    "<br />\n",
    "<br />"
   ]
  },
  {
   "cell_type": "markdown",
   "id": "6cd189aa-51ec-48f2-8702-e99358171732",
   "metadata": {},
   "source": [
    "## Initialize the folder to have it be tracked by git"
   ]
  },
  {
   "cell_type": "code",
   "execution_count": 2,
   "id": "dd5e31ea-4b5c-47b8-8635-25fc2e9072d2",
   "metadata": {},
   "outputs": [
    {
     "name": "stdout",
     "output_type": "stream",
     "text": [
      "Initialized empty Git repository in /home/jovyan/work/.git/\n"
     ]
    }
   ],
   "source": [
    "!git init"
   ]
  },
  {
   "cell_type": "code",
   "execution_count": 3,
   "id": "e8f62fa7-2efa-4ca1-9f4e-090c3122f86d",
   "metadata": {},
   "outputs": [],
   "source": [
    "%%bash\n",
    "git config --global user.email \"you@example.com\"\n",
    "git config --global user.name \"Your Name\""
   ]
  },
  {
   "cell_type": "code",
   "execution_count": 4,
   "id": "13cb14ba-a9f6-4a0f-b029-8847e06cd6a4",
   "metadata": {},
   "outputs": [
    {
     "name": "stdout",
     "output_type": "stream",
     "text": [
      "\u001b[01;34m.git\u001b[00m\n",
      "├── \u001b[01;34mbranches\u001b[00m\n",
      "├── config\n",
      "├── description\n",
      "├── HEAD\n",
      "├── \u001b[01;34mhooks\u001b[00m\n",
      "│   ├── \u001b[01;32mapplypatch-msg.sample\u001b[00m\n",
      "│   ├── \u001b[01;32mcommit-msg.sample\u001b[00m\n",
      "│   ├── \u001b[01;32mfsmonitor-watchman.sample\u001b[00m\n",
      "│   ├── \u001b[01;32mpost-update.sample\u001b[00m\n",
      "│   ├── \u001b[01;32mpre-applypatch.sample\u001b[00m\n",
      "│   ├── \u001b[01;32mpre-commit.sample\u001b[00m\n",
      "│   ├── \u001b[01;32mpre-merge-commit.sample\u001b[00m\n",
      "│   ├── \u001b[01;32mprepare-commit-msg.sample\u001b[00m\n",
      "│   ├── \u001b[01;32mpre-push.sample\u001b[00m\n",
      "│   ├── \u001b[01;32mpre-rebase.sample\u001b[00m\n",
      "│   ├── \u001b[01;32mpre-receive.sample\u001b[00m\n",
      "│   └── \u001b[01;32mupdate.sample\u001b[00m\n",
      "├── \u001b[01;34minfo\u001b[00m\n",
      "│   └── exclude\n",
      "├── \u001b[01;34mobjects\u001b[00m\n",
      "│   ├── \u001b[01;34minfo\u001b[00m\n",
      "│   └── \u001b[01;34mpack\u001b[00m\n",
      "└── \u001b[01;34mrefs\u001b[00m\n",
      "    ├── \u001b[01;34mheads\u001b[00m\n",
      "    └── \u001b[01;34mtags\u001b[00m\n",
      "\n",
      "9 directories, 16 files\n"
     ]
    }
   ],
   "source": [
    "!tree -a .git"
   ]
  },
  {
   "cell_type": "markdown",
   "id": "cd5df235-c24c-4533-a622-a7c0398c9c50",
   "metadata": {},
   "source": [
    "# The repository\n",
    "The \"repo\" consists of four items in the .git folder: two folders and two files.\n",
    "* Folders:\n",
    "    * objects\n",
    "    * refs\n",
    "* Files:\n",
    "    * HEAD\n",
    "    * index\n",
    "\n"
   ]
  },
  {
   "cell_type": "code",
   "execution_count": 5,
   "id": "d8e7117e-c69d-43d5-b9b1-55ba5d01515f",
   "metadata": {},
   "outputs": [
    {
     "name": "stdout",
     "output_type": "stream",
     "text": [
      "-rw-r--r-- 1 jovyan users 23 Jun 10 00:54 HEAD\n",
      "objects\n",
      "├── info\n",
      "└── pack\n",
      "refs\n",
      "├── heads\n",
      "└── tags\n",
      "\n",
      "4 directories, 0 files\n"
     ]
    },
    {
     "name": "stderr",
     "output_type": "stream",
     "text": [
      "ls: cannot access 'index': No such file or directory\n"
     ]
    }
   ],
   "source": [
    "%%bash\n",
    "cd .git\n",
    "ls -lF HEAD index\n",
    "tree objects refs\n"
   ]
  },
  {
   "cell_type": "code",
   "execution_count": 6,
   "id": "ab719825-0acd-4e2a-821b-9c853e609f38",
   "metadata": {},
   "outputs": [
    {
     "name": "stdout",
     "output_type": "stream",
     "text": [
      "ref: refs/heads/master\n"
     ]
    }
   ],
   "source": [
    "!cat .git/HEAD"
   ]
  },
  {
   "cell_type": "markdown",
   "id": "4066540b-fc4a-4e57-ba08-f1c63b82b0c2",
   "metadata": {},
   "source": [
    "<br />\n",
    "<br />\n",
    "<br />\n",
    "<br />\n",
    "<br />"
   ]
  },
  {
   "cell_type": "markdown",
   "id": "d6d15379-0031-490f-a9e6-b743180130b7",
   "metadata": {},
   "source": [
    "# Creating a file and adding and commiting to the repo"
   ]
  },
  {
   "cell_type": "code",
   "execution_count": 7,
   "id": "abb7f0bd-cf8d-4ae6-b4eb-e2a9b095ed51",
   "metadata": {},
   "outputs": [],
   "source": [
    "!echo \"Hello, world\" > file.001"
   ]
  },
  {
   "cell_type": "code",
   "execution_count": 8,
   "id": "c1ee803f-1e41-485b-96fc-8132437c7b74",
   "metadata": {},
   "outputs": [],
   "source": [
    "!git add file.001"
   ]
  },
  {
   "cell_type": "code",
   "execution_count": 9,
   "id": "221ce600-66c3-4b82-ad8a-fd5723f2c697",
   "metadata": {},
   "outputs": [
    {
     "name": "stdout",
     "output_type": "stream",
     "text": [
      "[master (root-commit) e5dbedc] file number one\n",
      " 1 file changed, 1 insertion(+)\n",
      " create mode 100644 file.001\n"
     ]
    }
   ],
   "source": [
    "!git commit -m \"file number one\""
   ]
  },
  {
   "cell_type": "code",
   "execution_count": 10,
   "id": "7577c11a-b14e-4049-817a-8898275958f4",
   "metadata": {},
   "outputs": [
    {
     "name": "stdout",
     "output_type": "stream",
     "text": [
      "\u001b[33mcommit e5dbedc48e87928e4a8222d070bad6dab173ff30\u001b[m\u001b[33m (\u001b[m\u001b[1;36mHEAD -> \u001b[m\u001b[1;32mmaster\u001b[m\u001b[33m)\u001b[m\n",
      "Author: Your Name <you@example.com>\n",
      "Date:   Thu Jun 10 00:56:00 2021 +0000\n",
      "\n",
      "    file number one\n"
     ]
    }
   ],
   "source": [
    "!git log"
   ]
  },
  {
   "cell_type": "markdown",
   "id": "602d0278-4f48-4dc4-9f04-d650082e7613",
   "metadata": {},
   "source": [
    "## Look at .git folder and how it has changed"
   ]
  },
  {
   "cell_type": "code",
   "execution_count": 11,
   "id": "59865e9b-e52e-458b-9f1c-7b3f6535dfa0",
   "metadata": {},
   "outputs": [
    {
     "name": "stdout",
     "output_type": "stream",
     "text": [
      "-rw-r--r-- 1 jovyan users  23 Jun 10 00:54 HEAD\n",
      "-rw-r--r-- 1 jovyan users 137 Jun 10 00:56 index\n",
      "objects\n",
      "├── a1\n",
      "│   └── 3eb9d02b9ee2c2f0d073bbc65d91a18c7e7316\n",
      "├── a5\n",
      "│   └── c19667710254f835085b99726e523457150e03\n",
      "├── e5\n",
      "│   └── dbedc48e87928e4a8222d070bad6dab173ff30\n",
      "├── info\n",
      "└── pack\n",
      "refs\n",
      "├── heads\n",
      "│   └── master\n",
      "└── tags\n",
      "\n",
      "7 directories, 4 files\n"
     ]
    }
   ],
   "source": [
    "%%bash\n",
    "cd .git\n",
    "ls -lF HEAD index\n",
    "tree objects refs\n"
   ]
  },
  {
   "cell_type": "markdown",
   "id": "246354e5-11e1-45c3-b9c9-41cd689dd437",
   "metadata": {},
   "source": [
    "<br />\n",
    "<br />\n",
    "<br />\n",
    "<br />\n",
    "<br />"
   ]
  },
  {
   "cell_type": "markdown",
   "id": "c73a209b-befb-46b2-8c2d-6c6b4e72e095",
   "metadata": {},
   "source": [
    "## Summary of observations\n",
    "* initialization creates a .git folder\n",
    "* in that folder are more files and folders\n",
    "* a repository is only four of those files/folders: objects, refs, HEAD, index\n",
    "* the random characters in the commit log match those in the objects folder ... mostly\n"
   ]
  }
 ],
 "metadata": {
  "kernelspec": {
   "display_name": "Python 3",
   "language": "python",
   "name": "python3"
  },
  "language_info": {
   "codemirror_mode": {
    "name": "ipython",
    "version": 3
   },
   "file_extension": ".py",
   "mimetype": "text/x-python",
   "name": "python",
   "nbconvert_exporter": "python",
   "pygments_lexer": "ipython3",
   "version": "3.9.2"
  }
 },
 "nbformat": 4,
 "nbformat_minor": 5
}
