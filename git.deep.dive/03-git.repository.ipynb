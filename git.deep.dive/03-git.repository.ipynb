{
 "cells": [
  {
   "cell_type": "markdown",
   "id": "a9ef6307-2e9f-49f2-916f-18b233a6b666",
   "metadata": {},
   "source": [
    "# The .git folder"
   ]
  },
  {
   "cell_type": "markdown",
   "id": "3f2778c0-02b0-43d6-ae2d-8baf655e8ec8",
   "metadata": {},
   "source": [
    "What's in it?\n",
    "Let's do the walk through again and explore."
   ]
  },
  {
   "cell_type": "markdown",
   "id": "9adb2d5a-ff11-4c83-bf99-2917ce3d0d30",
   "metadata": {},
   "source": [
    "## Initialize and show current folder"
   ]
  },
  {
   "cell_type": "code",
   "execution_count": null,
   "id": "7d5e0b4b-63dc-4447-90cb-eb8d017b34d4",
   "metadata": {},
   "outputs": [],
   "source": [
    "cd ~/work\n",
    "rm -rf example.repo.03\n",
    "mkdir -p example.repo.03\n",
    "tree example.repo.03\n",
    "cd example.repo.03"
   ]
  },
  {
   "cell_type": "markdown",
   "id": "716e87b8-f682-4758-a6f2-849f37a86cf1",
   "metadata": {},
   "source": [
    "## Initialize the folder to have it be tracked by git"
   ]
  },
  {
   "cell_type": "code",
   "execution_count": null,
   "id": "2454cf86-3c78-46e6-b259-911418d8ac98",
   "metadata": {},
   "outputs": [],
   "source": [
    "git init"
   ]
  },
  {
   "cell_type": "code",
   "execution_count": null,
   "id": "976974c2-27dc-41b7-9f85-5dae517b7eea",
   "metadata": {},
   "outputs": [],
   "source": [
    "git config user.email \"you@example.com\"\n",
    "git config user.name \"Your Name\""
   ]
  },
  {
   "cell_type": "markdown",
   "id": "ae8f0a4c-8249-40bc-a499-4ee130359a30",
   "metadata": {},
   "source": [
    "<br />\n",
    "<br />\n",
    "<br />\n",
    "<br />\n",
    "<br />"
   ]
  },
  {
   "cell_type": "markdown",
   "id": "cd5df235-c24c-4533-a622-a7c0398c9c50",
   "metadata": {},
   "source": [
    "# The repository\n",
    "The \"repo\" consists of four items in the .git folder: two folders and two files.\n",
    "* Folders:\n",
    "    * objects\n",
    "    * refs\n",
    "* Files:\n",
    "    * HEAD\n",
    "    * index\n",
    "\n"
   ]
  },
  {
   "cell_type": "code",
   "execution_count": null,
   "id": "d8e7117e-c69d-43d5-b9b1-55ba5d01515f",
   "metadata": {},
   "outputs": [],
   "source": [
    "ls -lF .git/{HEAD,index}\n",
    "tree .git/{objects,refs}"
   ]
  },
  {
   "cell_type": "code",
   "execution_count": null,
   "id": "ab719825-0acd-4e2a-821b-9c853e609f38",
   "metadata": {},
   "outputs": [],
   "source": [
    "cat .git/HEAD"
   ]
  },
  {
   "cell_type": "markdown",
   "id": "4066540b-fc4a-4e57-ba08-f1c63b82b0c2",
   "metadata": {},
   "source": [
    "<br />\n",
    "<br />\n",
    "<br />\n",
    "<br />\n",
    "<br />"
   ]
  },
  {
   "cell_type": "markdown",
   "id": "d6d15379-0031-490f-a9e6-b743180130b7",
   "metadata": {},
   "source": [
    "# Creating a file and adding and commiting to the repo"
   ]
  },
  {
   "cell_type": "code",
   "execution_count": null,
   "id": "402253e5-14cb-4cb0-be60-d731043a567b",
   "metadata": {},
   "outputs": [],
   "source": [
    "echo \"Hello, world\" > file.001\n",
    "git add file.001\n",
    "git commit -m \"file number one\""
   ]
  },
  {
   "cell_type": "code",
   "execution_count": null,
   "id": "7577c11a-b14e-4049-817a-8898275958f4",
   "metadata": {},
   "outputs": [],
   "source": [
    "git log"
   ]
  },
  {
   "cell_type": "markdown",
   "id": "602d0278-4f48-4dc4-9f04-d650082e7613",
   "metadata": {},
   "source": [
    "## Look at .git folder and how it has changed"
   ]
  },
  {
   "cell_type": "code",
   "execution_count": null,
   "id": "66afbf6f-0f9c-494d-87dd-eca292a816eb",
   "metadata": {},
   "outputs": [],
   "source": [
    "ls -lF .git/{HEAD,index}\n",
    "tree .git/{objects,refs}"
   ]
  },
  {
   "cell_type": "markdown",
   "id": "e76ec247-da30-485d-ad05-de5d02d61d6a",
   "metadata": {},
   "source": [
    "Of note ...\n",
    "* we now have three files in the object folder hierarchy\n",
    "* the random characters after the commit matches one of the items in the objects hierarchy\n",
    "* a file named master in the references/head folder\n",
    "* an index file\n",
    "\n",
    "These are all the componenets of a git repository."
   ]
  },
  {
   "cell_type": "markdown",
   "id": "246354e5-11e1-45c3-b9c9-41cd689dd437",
   "metadata": {},
   "source": [
    "<br />\n",
    "<br />\n",
    "<br />\n",
    "<br />\n",
    "<br />"
   ]
  },
  {
   "cell_type": "markdown",
   "id": "c73a209b-befb-46b2-8c2d-6c6b4e72e095",
   "metadata": {},
   "source": [
    "## Summary of observations\n",
    "* initialization creates a .git folder\n",
    "* in that folder are more files and folders\n",
    "* a repository is only four of those folders/files: objects, refs, HEAD, index\n",
    "* the random characters in the commit log match those in the objects folder ... mostly\n"
   ]
  }
 ],
 "metadata": {
  "kernelspec": {
   "display_name": "Bash",
   "language": "bash",
   "name": "bash"
  },
  "language_info": {
   "codemirror_mode": "shell",
   "file_extension": ".sh",
   "mimetype": "text/x-sh",
   "name": "bash"
  }
 },
 "nbformat": 4,
 "nbformat_minor": 5
}
