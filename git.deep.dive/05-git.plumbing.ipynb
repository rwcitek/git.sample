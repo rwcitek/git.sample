{
 "cells": [
  {
   "cell_type": "markdown",
   "id": "84dbe4ab-af9d-450d-af1e-a6c12983cd6c",
   "metadata": {},
   "source": [
    "# The plumbing: a walk through"
   ]
  },
  {
   "cell_type": "markdown",
   "id": "3a943593-41dc-4181-b6bc-5f84f98252cb",
   "metadata": {},
   "source": [
    "## Initialize and show current folder"
   ]
  },
  {
   "cell_type": "code",
   "execution_count": null,
   "id": "2332e206-b394-4a7a-9a1b-92755ec2c7a7",
   "metadata": {},
   "outputs": [],
   "source": [
    "cd ~/work\n",
    "rm -rf example.repo.05\n",
    "mkdir -p example.repo.05\n",
    "cd example.repo.05\n",
    "git init\n",
    "git config user.email \"you@example.com\"\n",
    "git config user.name \"Your Name\""
   ]
  },
  {
   "cell_type": "markdown",
   "id": "f8d19046-9655-4944-bc0a-a9d9fad1bc5c",
   "metadata": {},
   "source": [
    "## Verify that git has been initialized"
   ]
  },
  {
   "cell_type": "code",
   "execution_count": null,
   "id": "d3a2d4c8-b2b4-4ee7-a4c1-bc40721f20d4",
   "metadata": {},
   "outputs": [],
   "source": [
    "git status"
   ]
  },
  {
   "cell_type": "code",
   "execution_count": null,
   "id": "b2ca1db7-c0c6-4c93-9047-fad632a31932",
   "metadata": {},
   "outputs": [],
   "source": [
    "git config --list | grep ^user"
   ]
  },
  {
   "cell_type": "code",
   "execution_count": null,
   "id": "7af6444e-9f44-45f9-b62f-5d0b572115b8",
   "metadata": {},
   "outputs": [],
   "source": [
    "tree .git/objects"
   ]
  },
  {
   "cell_type": "markdown",
   "id": "6691db25-4d87-4b98-a57b-92ddb9361728",
   "metadata": {},
   "source": [
    "<br />\n",
    "<br />\n",
    "<br />\n",
    "<br />\n",
    "<br />"
   ]
  },
  {
   "cell_type": "markdown",
   "id": "2dde9bf0-b0a3-4367-848e-cb19ad565f84",
   "metadata": {},
   "source": [
    "## Create a file in the current working directory and add to KV store"
   ]
  },
  {
   "cell_type": "code",
   "execution_count": null,
   "id": "46584ab7-1b9f-4e08-8ab1-68d123308846",
   "metadata": {},
   "outputs": [],
   "source": [
    "echo \"Hello, world\" > file.001\n",
    "ls -lA"
   ]
  },
  {
   "cell_type": "code",
   "execution_count": null,
   "id": "af1b986a-4ecb-4ebd-9123-86495deff219",
   "metadata": {},
   "outputs": [],
   "source": [
    "cat -n file.001"
   ]
  },
  {
   "cell_type": "code",
   "execution_count": null,
   "id": "1471a515-0001-4bc6-853c-eb03785d0f85",
   "metadata": {},
   "outputs": [],
   "source": [
    "# save the file and return the hash\n",
    "git hash-object -w file.001"
   ]
  },
  {
   "cell_type": "markdown",
   "id": "ab7443ac-1a3c-4413-90d8-d488a4fa1ac6",
   "metadata": {},
   "source": [
    "Notice that when we add a file to the KV store, we get back a key, which is the sha1 of the contents of the file ( almost. )"
   ]
  },
  {
   "cell_type": "code",
   "execution_count": null,
   "id": "7bf195d3-8cbf-419f-ac5d-7d908f3574eb",
   "metadata": {},
   "outputs": [],
   "source": [
    "tree .git/objects"
   ]
  },
  {
   "cell_type": "markdown",
   "id": "02b9c861-c56e-4441-b43a-5a8582dfdf5d",
   "metadata": {},
   "source": [
    "Notice that the sha we got back matches what is in the objects hierarchy.  In other words, the .git/objects hierarchy is the key-value store."
   ]
  },
  {
   "cell_type": "markdown",
   "id": "f05e30ff-a083-4391-9762-ee9782baf940",
   "metadata": {},
   "source": [
    "<br />\n",
    "<br />\n",
    "<br />\n",
    "<br />\n",
    "<br />"
   ]
  },
  {
   "cell_type": "markdown",
   "id": "a83d32ca-b812-4196-9822-b056ec8ec0d6",
   "metadata": {},
   "source": [
    "## Change the file and add it to the KV store"
   ]
  },
  {
   "cell_type": "code",
   "execution_count": null,
   "id": "9eef9383-2df2-4222-b619-93ee998f0cf0",
   "metadata": {},
   "outputs": [],
   "source": [
    "echo \"Greetings, earthlings\" > file.001\n",
    "cat -n file.001"
   ]
  },
  {
   "cell_type": "code",
   "execution_count": null,
   "id": "4102ba7c-d0c2-45b3-a954-a665835079c0",
   "metadata": {},
   "outputs": [],
   "source": [
    "# save the file and return the hash\n",
    "git hash-object -w file.001"
   ]
  },
  {
   "cell_type": "code",
   "execution_count": null,
   "id": "db0794e5-b0c0-4265-bec4-65d07c358162",
   "metadata": {},
   "outputs": [],
   "source": [
    "tree .git/objects"
   ]
  },
  {
   "cell_type": "markdown",
   "id": "8199f151-cabe-4bd1-8887-4f26acc1b705",
   "metadata": {},
   "source": [
    "We now have two objects: both from \"file.001\""
   ]
  },
  {
   "cell_type": "markdown",
   "id": "667a4517-1315-45f8-951f-d330a81f8074",
   "metadata": {},
   "source": [
    "<br />\n",
    "<br />\n",
    "<br />\n",
    "<br />\n",
    "<br />"
   ]
  },
  {
   "cell_type": "markdown",
   "id": "24ebba5b-0662-4557-aeb3-f5c656a645b5",
   "metadata": {},
   "source": [
    "## Restore previous version of file.001"
   ]
  },
  {
   "cell_type": "code",
   "execution_count": null,
   "id": "dafe8f9c-cacd-400f-8d78-d85ac9842281",
   "metadata": {},
   "outputs": [],
   "source": [
    "# View the current contents\n",
    "ls -lA\n",
    "cat file.001"
   ]
  },
  {
   "cell_type": "code",
   "execution_count": null,
   "id": "8f2f5a09-2eea-4957-bf29-bcd32f20109c",
   "metadata": {},
   "outputs": [],
   "source": [
    "# If we remember the key and the file name, we can restore the contents\n",
    "git cat-file -p a5c19667710254f835085b99726e523457150e03 > file.001\n",
    "cat file.001"
   ]
  },
  {
   "cell_type": "markdown",
   "id": "e865f75d-c0f5-4aac-9586-fb1e2f963a79",
   "metadata": {},
   "source": [
    "<br />\n",
    "<br />\n",
    "<br />\n",
    "<br />\n",
    "<br />"
   ]
  },
  {
   "cell_type": "markdown",
   "id": "7340c5f6-d502-49c9-b935-f1551796468f",
   "metadata": {},
   "source": [
    "## Git objects\n",
    "Notice that we didn't store the name of the file or any other metadata ( e.g. permissions ), just the contents.  A file with only content is called a **blob**.  To store metadata, we need a new kind of git object.  In git there are four types of objects:\n",
    "* blob\n",
    "* tree\n",
    "* commit\n",
    "* reference ( tag )"
   ]
  },
  {
   "cell_type": "markdown",
   "id": "704f5f4d-85d5-4d32-b9bb-389775d1ff34",
   "metadata": {},
   "source": [
    "You can query what type of object a file is by using the \"-t\" option to \"git cat-file\""
   ]
  },
  {
   "cell_type": "code",
   "execution_count": null,
   "id": "195552dc-2dc4-4c43-ad90-2d809cf426b3",
   "metadata": {},
   "outputs": [],
   "source": [
    "git cat-file -t a5c19667710254f835085b99726e523457150e03"
   ]
  },
  {
   "cell_type": "markdown",
   "id": "bdfea85c-bd9c-4dc0-a9f8-270b8b066dae",
   "metadata": {},
   "source": [
    "Or the same for all objects in the .git/objects hierarchy"
   ]
  },
  {
   "cell_type": "code",
   "execution_count": null,
   "id": "2883f27c-11a3-4658-a499-372b96e3e5a6",
   "metadata": {},
   "outputs": [],
   "source": [
    "# Show the type of all objects\n",
    "find .git/objects -type f |\n",
    "cut -d/ -f3- |\n",
    "tr -d '/' |\n",
    "xargs -n1 -t git cat-file -t"
   ]
  },
  {
   "cell_type": "markdown",
   "id": "a3861710-9660-4776-b024-d14ce991a409",
   "metadata": {},
   "source": [
    "To see the contents of all objects, use the \"-p\" option"
   ]
  },
  {
   "cell_type": "code",
   "execution_count": null,
   "id": "d54432ac-65d1-4a2f-8df7-4b6c3ac6fb3f",
   "metadata": {},
   "outputs": [],
   "source": [
    "# Show the contents of all objects\n",
    "find .git/objects -type f |\n",
    "cut -d/ -f3- |\n",
    "tr -d '/' |\n",
    "xargs -n1 -t git cat-file -p"
   ]
  },
  {
   "cell_type": "markdown",
   "id": "7aab4eb1-78b3-4949-81d1-3c9bed94b604",
   "metadata": {},
   "source": [
    "<br />\n",
    "<br />\n",
    "<br />\n",
    "<br />\n",
    "<br />"
   ]
  },
  {
   "cell_type": "markdown",
   "id": "92fec515-94e9-45d0-ba61-dcf2fce78c06",
   "metadata": {},
   "source": [
    "## Create a tree\n",
    "A tree is a collection of metadata and pointers to blobs or other trees.  The closest analogy would be a filesystem folder."
   ]
  },
  {
   "cell_type": "code",
   "execution_count": null,
   "id": "64b47de2-749c-439c-b854-5ffa731421a2",
   "metadata": {},
   "outputs": [],
   "source": [
    "git update-index --add --cacheinfo 100644 a5c19667710254f835085b99726e523457150e03 file.001\n",
    "git write-tree"
   ]
  },
  {
   "cell_type": "code",
   "execution_count": null,
   "id": "7c603e28-13f8-4816-baa9-6be67685cae6",
   "metadata": {},
   "outputs": [],
   "source": [
    "# Show the type of all objects\n",
    "find .git/objects -type f |\n",
    "cut -d/ -f3- |\n",
    "tr -d '/' |\n",
    "xargs -n1 -t git cat-file -t |\n",
    "cat -n"
   ]
  },
  {
   "cell_type": "code",
   "execution_count": null,
   "id": "9e09e837-9943-4e36-b3ce-9278a6d810c9",
   "metadata": {},
   "outputs": [],
   "source": [
    "# Show the contents of all objects\n",
    "find .git/objects -type f |\n",
    "cut -d/ -f3- |\n",
    "tr -d '/' |\n",
    "xargs -n1 -t git cat-file -p |\n",
    "cat -n "
   ]
  },
  {
   "cell_type": "markdown",
   "id": "44278b76-fc62-422b-ac34-c46e5f4e186e",
   "metadata": {},
   "source": [
    "<br />\n",
    "<br />\n",
    "<br />\n",
    "<br />\n",
    "<br />"
   ]
  },
  {
   "cell_type": "markdown",
   "id": "458a7724-5e8d-4dbb-9c0c-bc527827aa21",
   "metadata": {},
   "source": [
    "## Stage the changed version of the first file"
   ]
  },
  {
   "cell_type": "code",
   "execution_count": null,
   "id": "658b8f58-cf83-4d6e-8f18-afbaf1a7f1e2",
   "metadata": {},
   "outputs": [],
   "source": [
    "git update-index --add --cacheinfo 100644 34a27f74d7d73cd456ce426bfa20bffcfb8fd11c file.001\n",
    "\n",
    "# write the tree\n",
    "git write-tree"
   ]
  },
  {
   "cell_type": "code",
   "execution_count": null,
   "id": "a4220e32-e73b-4f48-956c-d4684aaba6d1",
   "metadata": {
    "tags": []
   },
   "outputs": [],
   "source": [
    "# Show the hash, type, and contents of objects\n",
    "find .git/objects -type f | cut -d/ -f3- | tr -d '/' |\n",
    "while read object ; do\n",
    "  echo == ${object} $( git cat-file -t ${object} )\n",
    "  git cat-file -p ${object}\n",
    "  echo\n",
    "done"
   ]
  },
  {
   "cell_type": "markdown",
   "id": "aa1ed345-69c7-45d6-8771-1733b61aa83e",
   "metadata": {},
   "source": [
    "<br />\n",
    "<br />\n",
    "<br />\n",
    "<br />\n",
    "<br />"
   ]
  },
  {
   "cell_type": "markdown",
   "id": "26bc0d8e-dd07-44ed-9b84-f673afe2a514",
   "metadata": {},
   "source": [
    "<br />\n",
    "<br />\n",
    "<br />\n",
    "<br />\n",
    "<br />"
   ]
  },
  {
   "cell_type": "markdown",
   "id": "47a06902-2a06-4510-b7ab-3267a3263dd4",
   "metadata": {},
   "source": [
    "## Create a new file and create a tree for it"
   ]
  },
  {
   "cell_type": "code",
   "execution_count": null,
   "id": "0d51a3ef-4c08-4f92-8829-9da21664031a",
   "metadata": {},
   "outputs": [],
   "source": [
    "echo \"Hello, world ... again\" > file.002\n",
    "ls -lA"
   ]
  },
  {
   "cell_type": "code",
   "execution_count": null,
   "id": "67f9b8d5-50d2-4ff5-a944-eefb7b7b54a3",
   "metadata": {},
   "outputs": [],
   "source": [
    "cat -n file.002"
   ]
  },
  {
   "cell_type": "code",
   "execution_count": null,
   "id": "f88963be-24af-4404-bad9-ea8d555c94b4",
   "metadata": {},
   "outputs": [],
   "source": [
    "# for a file NOT in the KV store\n",
    "git update-index --add file.002\n",
    "\n",
    "# write the tree\n",
    "git write-tree"
   ]
  },
  {
   "cell_type": "code",
   "execution_count": null,
   "id": "341ca317-4d29-42a8-a9d4-65b9da87ea33",
   "metadata": {
    "tags": []
   },
   "outputs": [],
   "source": [
    "# Show the hash, type, and contents of objects\n",
    "find .git/objects -type f | cut -d/ -f3- | tr -d '/' |\n",
    "while read object ; do\n",
    "  echo == ${object} $( git cat-file -t ${object} )\n",
    "  git cat-file -p ${object}\n",
    "  echo\n",
    "done"
   ]
  },
  {
   "cell_type": "markdown",
   "id": "f124a6b4-caca-40ec-bce5-2392fcecc861",
   "metadata": {},
   "source": [
    "These trees represent the \"snapshots\" of the objects in your working directory.  Tree a13eb has the original file.001, tree 7f1b has the changed file.001, and tree e1df3 has both files file.001 and file.002.  Think of these trees as sub-graphs.  Blobs are end nodes.  Trees point to one or more blobs ( or other trees ).\n",
    "\n",
    "What we have is similar to this:\n",
    "![]( https://git-scm.com/book/en/v2/images/data-model-2.png )\n"
   ]
  },
  {
   "cell_type": "markdown",
   "id": "b0a5c755-a63c-474c-b527-5737f94adce4",
   "metadata": {},
   "source": [
    "Time to stitch the trees together with commits."
   ]
  },
  {
   "cell_type": "markdown",
   "id": "3f1ac1f0-5ba4-487c-8888-b94dbdf01f31",
   "metadata": {},
   "source": [
    "<br />\n",
    "<br />\n",
    "<br />\n",
    "<br />\n",
    "<br />"
   ]
  },
  {
   "cell_type": "markdown",
   "id": "fc72f7af-ff37-4d75-958f-c1bf1e22f4e8",
   "metadata": {},
   "source": [
    "## Create a commit"
   ]
  },
  {
   "cell_type": "code",
   "execution_count": null,
   "id": "6360e50b-406c-4f3b-ad74-be23bbd82424",
   "metadata": {},
   "outputs": [],
   "source": [
    "commit_1=$( echo 'file number one' | git commit-tree a13eb9d02b9ee2c2f0d073bbc65d91a18c7e7316 )\n",
    "echo ${commit_1}"
   ]
  },
  {
   "cell_type": "code",
   "execution_count": null,
   "id": "513c0643-4198-4291-8368-7fb158480e76",
   "metadata": {},
   "outputs": [],
   "source": [
    "git cat-file -p ${commit_1}"
   ]
  },
  {
   "cell_type": "code",
   "execution_count": null,
   "id": "fa3e8537-4c85-44eb-8e79-e382f34962f5",
   "metadata": {
    "tags": []
   },
   "outputs": [],
   "source": [
    "find .git/objects -type f | cut -d/ -f3- | tr -d '/' | sort |\n",
    "while read object ; do\n",
    "  echo == ${object} $( git cat-file -t ${object} )\n",
    "  git cat-file -p ${object}\n",
    "  echo\n",
    "done"
   ]
  },
  {
   "cell_type": "markdown",
   "id": "91520c76-5116-4ca7-a9f6-25570f13528d",
   "metadata": {},
   "source": [
    "<br />\n",
    "<br />\n",
    "<br />\n",
    "<br />\n",
    "<br />"
   ]
  },
  {
   "cell_type": "markdown",
   "id": "93b9d6c1-69ae-4b51-8a56-6f0f5f8762a5",
   "metadata": {},
   "source": [
    "## Add the second commit"
   ]
  },
  {
   "cell_type": "code",
   "execution_count": null,
   "id": "36de6ae1-c981-4f4f-bc84-6ef6628d021e",
   "metadata": {},
   "outputs": [],
   "source": [
    "commit_2=$( echo 'changed salutation in file.001' | git commit-tree 7f1ba -p ${commit_1} )\n",
    "echo ${commit_2}"
   ]
  },
  {
   "cell_type": "code",
   "execution_count": null,
   "id": "ed325fb5-1a19-4ef9-b7a5-1e116fe3b026",
   "metadata": {
    "tags": []
   },
   "outputs": [],
   "source": [
    "find .git/objects -type f | cut -d/ -f3- | tr -d '/' | sort |\n",
    "while read object ; do\n",
    "  echo == ${object} $( git cat-file -t ${object} )\n",
    "  git cat-file -p ${object}\n",
    "  echo\n",
    "done"
   ]
  },
  {
   "cell_type": "markdown",
   "id": "87716372-c19c-4cc2-b9b6-d398bc8b8ab0",
   "metadata": {},
   "source": [
    "<br />\n",
    "<br />\n",
    "<br />\n",
    "<br />\n",
    "<br />"
   ]
  },
  {
   "cell_type": "markdown",
   "id": "884093c5-b7ab-44cd-975e-d795615b3966",
   "metadata": {},
   "source": [
    "## Add the third commit"
   ]
  },
  {
   "cell_type": "code",
   "execution_count": null,
   "id": "6e3fb11e-c43c-412b-a141-26a76d812b49",
   "metadata": {},
   "outputs": [],
   "source": [
    "commit_3=$( echo 'new file file.002' | git commit-tree e1df3 -p ${commit_2} )\n",
    "echo ${commit_3}"
   ]
  },
  {
   "cell_type": "code",
   "execution_count": null,
   "id": "3ebf4a7b-deff-4e35-947d-6131abc81b66",
   "metadata": {
    "tags": []
   },
   "outputs": [],
   "source": [
    "find .git/objects -type f | cut -d/ -f3- | tr -d '/' | sort |\n",
    "while read object ; do\n",
    "  echo == ${object} $( git cat-file -t ${object} )\n",
    "  git cat-file -p ${object}\n",
    "  echo\n",
    "done"
   ]
  },
  {
   "cell_type": "markdown",
   "id": "43805505-b329-43e4-9cb4-9e759285ab5b",
   "metadata": {},
   "source": [
    "## View the git log"
   ]
  },
  {
   "cell_type": "code",
   "execution_count": null,
   "id": "719fe210-89ab-4719-af78-3cf608171429",
   "metadata": {},
   "outputs": [],
   "source": [
    "git log --stat ${commit_3}"
   ]
  },
  {
   "cell_type": "markdown",
   "id": "f9ced5d2-45b1-4513-bde9-f94b9424183f",
   "metadata": {},
   "source": [
    "<br />\n",
    "<br />\n",
    "<br />\n",
    "<br />\n",
    "<br />"
   ]
  },
  {
   "cell_type": "markdown",
   "id": "f2c9adaf-8b42-4fe3-bff0-6737d1e2e6c8",
   "metadata": {},
   "source": [
    "## Object storage\n",
    "A bit of a rewind: I said that the object being stored is **mostly** the contents of the file.  Git actually prepends some metadata to the beginning of the file.\n"
   ]
  },
  {
   "cell_type": "markdown",
   "id": "a17946c2-f894-48fb-baea-c6c58fc02e27",
   "metadata": {},
   "source": [
    "### Creating a git blob\n",
    "Git prepends the type of object, the length of the object, and a null before the contents."
   ]
  },
  {
   "cell_type": "code",
   "execution_count": null,
   "id": "3dabb1be-d99d-4a6f-ae1c-f2f12512ef9c",
   "metadata": {},
   "outputs": [],
   "source": [
    "# Using git\n",
    "text='test content'\n",
    "\n",
    "echo -e \"${text}\" | git hash-object --stdin"
   ]
  },
  {
   "cell_type": "code",
   "execution_count": null,
   "id": "8d06095e-15c1-4920-8170-9268566fd166",
   "metadata": {},
   "outputs": [],
   "source": [
    "# Manually\n",
    "text='test content'\n",
    "len=$( echo -e ${text} | wc -c | tr -d ' ' )\n",
    "\n",
    "echo -e \"blob ${len}\\0${text}\" | shasum -a 1 | tr -d '\\n -'\n"
   ]
  },
  {
   "cell_type": "markdown",
   "id": "ae4258de-4d12-4469-907d-795270395225",
   "metadata": {},
   "source": [
    "### Reading the contents of a blob object"
   ]
  },
  {
   "cell_type": "code",
   "execution_count": null,
   "id": "f26c30f8-16e8-40b6-8275-9d0c325970c9",
   "metadata": {},
   "outputs": [],
   "source": [
    "# Find a blob\n",
    "blob_file=$(\n",
    "    find .git/objects -type f |\n",
    "    sort |\n",
    "    while read file ; do\n",
    "      <<< ${file} cut -d/ -f3- |\n",
    "      tr -d '/' |\n",
    "      xargs -n1 git cat-file -t |\n",
    "      fgrep -q blob && echo ${file} && break\n",
    "    done\n",
    ")\n",
    "echo ${blob_file}"
   ]
  },
  {
   "cell_type": "code",
   "execution_count": null,
   "id": "e5e173e8-1190-4f0f-bc8f-defed639ce54",
   "metadata": {},
   "outputs": [],
   "source": [
    "# We can trick gzip to decompress zlib files by prepending some hex code\n",
    "printf \"\\x1f\\x8b\\x08\\x00\\x00\\x00\\x00\\x00\" |\n",
    "cat - ${blob_file} |\n",
    "gzip -dc 2> /dev/null |\n",
    "cat -vet"
   ]
  },
  {
   "cell_type": "code",
   "execution_count": null,
   "id": "55528a6f-beea-448b-b553-7814dae3594f",
   "metadata": {},
   "outputs": [],
   "source": [
    "# Verify the hash\n",
    "echo ${blob_file}\n",
    "printf \"\\x1f\\x8b\\x08\\x00\\x00\\x00\\x00\\x00\" |\n",
    "cat - ${blob_file} |\n",
    "gzip -dc 2> /dev/null |\n",
    "shasum"
   ]
  },
  {
   "cell_type": "code",
   "execution_count": null,
   "id": "d94df03a-2680-4fa3-ac4e-88cb6e0e7f9d",
   "metadata": {},
   "outputs": [],
   "source": [
    "# Display the original contents\n",
    "printf \"\\x1f\\x8b\\x08\\x00\\x00\\x00\\x00\\x00\" |\n",
    "cat - ${blob_file} |\n",
    "gzip -dc 2> /dev/null |\n",
    "sed -z '1d'"
   ]
  },
  {
   "cell_type": "markdown",
   "id": "6385c953-9672-4dbd-a9f0-9c14a3a7c5dc",
   "metadata": {},
   "source": [
    "<br />\n",
    "<br />\n",
    "<br />\n",
    "<br />\n",
    "<br />"
   ]
  },
  {
   "cell_type": "markdown",
   "id": "a95886d9-c25d-49fc-a124-ceaf1d2335c2",
   "metadata": {},
   "source": [
    "## One last item: references\n",
    "There are four git objects.  We've covered three of them: blobs, trees, commits.  The last one is references."
   ]
  },
  {
   "cell_type": "code",
   "execution_count": null,
   "id": "fd8172ee-1c80-400b-af0e-7aab8cea37e9",
   "metadata": {},
   "outputs": [],
   "source": [
    "tree .git/refs"
   ]
  },
  {
   "cell_type": "code",
   "execution_count": null,
   "id": "8303d21c-e72d-44d3-b9ba-e1d19e883876",
   "metadata": {},
   "outputs": [],
   "source": [
    "# create a \"master\" branch\n",
    "echo ${commit_3} > .git/refs/heads/master\n",
    "\n",
    "git log --pretty=oneline master"
   ]
  },
  {
   "cell_type": "markdown",
   "id": "eb0af5cb-08e3-41db-ad98-e8a3105d29e6",
   "metadata": {},
   "source": [
    "**Don't do this** <br />\n",
    "Use the plumbing commands.  Or better, the porcelain commands.\n"
   ]
  },
  {
   "cell_type": "code",
   "execution_count": null,
   "id": "d4176581-4a10-43ce-af16-be2620aa24da",
   "metadata": {},
   "outputs": [],
   "source": [
    "git update-ref refs/heads/master ${commit_3}\n",
    "git log --pretty=oneline master"
   ]
  },
  {
   "cell_type": "markdown",
   "id": "c3057b31-4d5c-4976-a87a-cf812a8c50b9",
   "metadata": {},
   "source": [
    "<br />\n",
    "<br />\n",
    "<br />\n",
    "<br />\n",
    "<br />"
   ]
  },
  {
   "cell_type": "markdown",
   "id": "8ca7b20c-c1d5-4d02-8cdc-4041239a1cc6",
   "metadata": {},
   "source": [
    "## Creating a branch\n",
    "A branch is just a reference to a commit object."
   ]
  },
  {
   "cell_type": "code",
   "execution_count": null,
   "id": "03b94b84-7d94-4ffe-966c-147951ab01f3",
   "metadata": {},
   "outputs": [],
   "source": [
    "git update-ref refs/heads/test ${commit_2}\n",
    "git log --pretty=oneline test"
   ]
  },
  {
   "cell_type": "code",
   "execution_count": null,
   "id": "d659309d-0c47-493e-831f-8cf01310a7cd",
   "metadata": {},
   "outputs": [],
   "source": [
    "git branch -a"
   ]
  },
  {
   "cell_type": "markdown",
   "id": "87e0a968-95dd-4d9b-a6e9-d5066efaad2d",
   "metadata": {},
   "source": [
    "Now we have something like this.\n",
    "![]( https://git-scm.com/book/en/v2/images/data-model-4.png )"
   ]
  },
  {
   "cell_type": "markdown",
   "id": "2977ec11-fcb4-4ff7-9d34-73b4b4bc62aa",
   "metadata": {},
   "source": [
    "### The HEAD"
   ]
  },
  {
   "cell_type": "code",
   "execution_count": null,
   "id": "5b3fbc20-9482-4c71-913e-0797bc5c0c05",
   "metadata": {},
   "outputs": [],
   "source": [
    "cat .git/HEAD"
   ]
  },
  {
   "cell_type": "code",
   "execution_count": null,
   "id": "7c2b0580-3c19-48c4-bfb2-7d7766e87d31",
   "metadata": {},
   "outputs": [],
   "source": [
    "git checkout test"
   ]
  },
  {
   "cell_type": "code",
   "execution_count": null,
   "id": "bfea5f46-164c-4047-a796-cbf0a739d27f",
   "metadata": {},
   "outputs": [],
   "source": [
    "cat .git/HEAD"
   ]
  },
  {
   "cell_type": "code",
   "execution_count": null,
   "id": "d026b033-b15d-4394-93a5-3a57f22aeab7",
   "metadata": {},
   "outputs": [],
   "source": [
    "git symbolic-ref HEAD"
   ]
  },
  {
   "cell_type": "code",
   "execution_count": null,
   "id": "41c52700-687d-4968-aa16-9d1999ec4df7",
   "metadata": {},
   "outputs": [],
   "source": [
    "git branch -a"
   ]
  },
  {
   "cell_type": "code",
   "execution_count": null,
   "id": "d12753bb-7573-416e-80bd-947acaa4d293",
   "metadata": {},
   "outputs": [],
   "source": [
    "# manually setting the HEAD\n",
    "git symbolic-ref HEAD refs/heads/master\n",
    "cat .git/HEAD"
   ]
  },
  {
   "cell_type": "code",
   "execution_count": null,
   "id": "bd9b6ff0-ff30-42d3-9233-04d542ee9892",
   "metadata": {},
   "outputs": [],
   "source": [
    "git branch -a"
   ]
  },
  {
   "cell_type": "markdown",
   "id": "3525e390-9268-4cc6-9196-61335ca164e5",
   "metadata": {},
   "source": [
    "## The Tag\n",
    "There are two types of tags:\n",
    "* lightweight\n",
    "* annotated"
   ]
  },
  {
   "cell_type": "markdown",
   "id": "ddada6cb-59db-4570-a9d9-bb51cdce5c10",
   "metadata": {},
   "source": [
    "#### Lightweight tag"
   ]
  },
  {
   "cell_type": "code",
   "execution_count": null,
   "id": "db4a3347-80d8-4e22-8bee-5e272b055606",
   "metadata": {},
   "outputs": [],
   "source": [
    "# List tags hierarchy\n",
    "tree .git/refs/tags"
   ]
  },
  {
   "cell_type": "code",
   "execution_count": null,
   "id": "c88d755c-e3b6-41df-932f-91774ebebef8",
   "metadata": {},
   "outputs": [],
   "source": [
    "# Create a lightweight tag\n",
    "git update-ref refs/tags/v1.0 ${commit_1}"
   ]
  },
  {
   "cell_type": "code",
   "execution_count": null,
   "id": "07afdd1c-a099-407d-a9d8-bae83e26ccfb",
   "metadata": {},
   "outputs": [],
   "source": [
    "# List tags\n",
    "git tag"
   ]
  },
  {
   "cell_type": "code",
   "execution_count": null,
   "id": "216140f4-899a-4562-a8e7-80fa80c743ee",
   "metadata": {},
   "outputs": [],
   "source": [
    "# List tags hierarchy\n",
    "tree .git/refs/tags"
   ]
  },
  {
   "cell_type": "code",
   "execution_count": null,
   "id": "febe9c00-13ca-4b52-bc9f-118aeaafa7a4",
   "metadata": {},
   "outputs": [],
   "source": [
    "# Show contents of tag\n",
    "cat .git/refs/tags/v1.0"
   ]
  },
  {
   "cell_type": "markdown",
   "id": "13255ca3-19b6-4166-b531-52d8aed8b45a",
   "metadata": {},
   "source": [
    "Notice that the tag is just a reference to an object."
   ]
  },
  {
   "cell_type": "code",
   "execution_count": null,
   "id": "ed9fd9aa-d9a2-449a-a09b-6a9798c5885c",
   "metadata": {},
   "outputs": [],
   "source": [
    "# Display the type of the object that the tag references\n",
    "cat .git/refs/tags/v1.0 |\n",
    "xargs -t git cat-file -t |\n",
    "cat -n"
   ]
  },
  {
   "cell_type": "code",
   "execution_count": null,
   "id": "cc024e48-bfac-475b-8522-c4eb7cffa4cb",
   "metadata": {},
   "outputs": [],
   "source": [
    "# Display the contents of the object that the tag references\n",
    "cat .git/refs/tags/v1.0 |\n",
    "xargs -t git cat-file -p |\n",
    "cat -n"
   ]
  },
  {
   "cell_type": "markdown",
   "id": "5ddd4b11-7b68-4cd0-b0d6-1ff00b41b88e",
   "metadata": {},
   "source": [
    "<br />\n",
    "\n",
    "#### Annotated tag"
   ]
  },
  {
   "cell_type": "code",
   "execution_count": null,
   "id": "432199e7-bcb4-4459-b65f-771a6f8043c0",
   "metadata": {},
   "outputs": [],
   "source": [
    "# Create an annotated tag\n",
    "git tag -a v1.1 ${commit_2} -m \"Test tag\""
   ]
  },
  {
   "cell_type": "code",
   "execution_count": null,
   "id": "a6b6c67e-7146-4f56-80f7-452b6683cdd6",
   "metadata": {},
   "outputs": [],
   "source": [
    "git tag"
   ]
  },
  {
   "cell_type": "code",
   "execution_count": null,
   "id": "e5c92aae-1e96-40bf-8a37-64a657279f30",
   "metadata": {},
   "outputs": [],
   "source": [
    "# list tags hierarchy\n",
    "tree .git/refs/tags/"
   ]
  },
  {
   "cell_type": "code",
   "execution_count": null,
   "id": "47f2c973-9790-4927-a83c-ff1b06821383",
   "metadata": {},
   "outputs": [],
   "source": [
    "# Display tag contents\n",
    "cat .git/refs/tags/v1.1"
   ]
  },
  {
   "cell_type": "code",
   "execution_count": null,
   "id": "f7072da9-65f6-449c-ad4b-03d2a19f4406",
   "metadata": {},
   "outputs": [],
   "source": [
    "# Display the type of the object that the tag references\n",
    "cat .git/refs/tags/v1.1 |\n",
    "xargs -t git cat-file -t |\n",
    "cat -n"
   ]
  },
  {
   "cell_type": "code",
   "execution_count": null,
   "id": "8e96f68e-5c0e-412b-abe2-d379cb5997da",
   "metadata": {},
   "outputs": [],
   "source": [
    "# Display the contents of the object that the tag references\n",
    "cat .git/refs/tags/v1.1 |\n",
    "xargs -t git cat-file -p |\n",
    "cat -n"
   ]
  }
 ],
 "metadata": {
  "kernelspec": {
   "display_name": "Bash",
   "language": "bash",
   "name": "bash"
  },
  "language_info": {
   "codemirror_mode": "shell",
   "file_extension": ".sh",
   "mimetype": "text/x-sh",
   "name": "bash"
  }
 },
 "nbformat": 4,
 "nbformat_minor": 5
}
