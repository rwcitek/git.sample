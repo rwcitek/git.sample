{
 "cells": [
  {
   "cell_type": "markdown",
   "id": "df5b38f6-fbb6-4690-b2fd-0e720cca774e",
   "metadata": {},
   "source": [
    "# Review of git\n",
    "\n",
    "### Basic structure\n",
    "- working folder\n",
    "- staging area\n",
    "- repository ( repo )\n",
    "\n",
    "### Abstractions\n",
    "- files and folders\n",
    "- commit ( snapshot )\n",
    "\n",
    "### Basic Process\n",
    "Within the working folder, you ...\n",
    "1. initialize and configure git repo\n",
    "1. create files\n",
    "1. add and commit files to the repo\n",
    "1. add/change/remove/querythe files\n",
    "1. repeat\n"
   ]
  },
  {
   "cell_type": "markdown",
   "id": "582b3cc7-74c5-43b6-8547-bbcbbc2e4384",
   "metadata": {},
   "source": [
    "![]( https://git-scm.com/book/en/v2/images/areas.png )\n"
   ]
  }
 ],
 "metadata": {
  "kernelspec": {
   "display_name": "Python 3",
   "language": "python",
   "name": "python3"
  },
  "language_info": {
   "codemirror_mode": {
    "name": "ipython",
    "version": 3
   },
   "file_extension": ".py",
   "mimetype": "text/x-python",
   "name": "python",
   "nbconvert_exporter": "python",
   "pygments_lexer": "ipython3",
   "version": "3.9.2"
  }
 },
 "nbformat": 4,
 "nbformat_minor": 5
}
